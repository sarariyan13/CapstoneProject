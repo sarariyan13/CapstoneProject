{
 "cells": [
  {
   "cell_type": "markdown",
   "id": "83b59c4d",
   "metadata": {},
   "source": [
    "# CAPSTONE PROJECT"
   ]
  },
  {
   "cell_type": "markdown",
   "id": "502c5182",
   "metadata": {},
   "source": [
    "# NAME OF PROJECT: SHOEBRANDS PRICE AND RATINGS ANALYSIS"
   ]
  },
  {
   "cell_type": "markdown",
   "id": "3cbf3950",
   "metadata": {},
   "source": [
    "# Insights of the project:"
   ]
  },
  {
   "cell_type": "markdown",
   "id": "d5721f8d",
   "metadata": {},
   "source": [
    "The project aims at predicting shoes prices and ratings of the shoes of various brands. There are a total of 6 brands. These are:\n",
    "1. Nike Shoes.\n",
    "2. Columbia Shoes.\n",
    "3.  WoodlandWorldWide Shoes.\n",
    "4. Puma Shoes.\n",
    "5. Skechers Shoes.\n",
    "6. Adidas Shoes. \n",
    "The websites of these brands have been scraped \n"
   ]
  },
  {
   "cell_type": "markdown",
   "id": "9623c846",
   "metadata": {},
   "source": [
    "Importing the necessary libraries as well as file which was scraped and stored as CapstoneFile.csv in my PC."
   ]
  },
  {
   "cell_type": "code",
   "execution_count": 1,
   "id": "32fdf42d",
   "metadata": {},
   "outputs": [],
   "source": [
    "import pandas as pd\n",
    "import numpy as np\n",
    "import seaborn as sns\n",
    "import matplotlib.pyplot as plt\n",
    "import sklearn\n",
    "from sklearn.model_selection import train_test_split\n",
    "from sklearn.preprocessing import StandardScaler\n",
    "from sklearn.preprocessing import LabelEncoder\n",
    "import seaborn as sns\n",
    "\n",
    "import warnings\n",
    "warnings.filterwarnings('ignore')\n"
   ]
  },
  {
   "cell_type": "code",
   "execution_count": 181,
   "id": "464049c7",
   "metadata": {},
   "outputs": [
    {
     "data": {
      "text/html": [
       "<div>\n",
       "<style scoped>\n",
       "    .dataframe tbody tr th:only-of-type {\n",
       "        vertical-align: middle;\n",
       "    }\n",
       "\n",
       "    .dataframe tbody tr th {\n",
       "        vertical-align: top;\n",
       "    }\n",
       "\n",
       "    .dataframe thead th {\n",
       "        text-align: right;\n",
       "    }\n",
       "</style>\n",
       "<table border=\"1\" class=\"dataframe\">\n",
       "  <thead>\n",
       "    <tr style=\"text-align: right;\">\n",
       "      <th></th>\n",
       "      <th>Unnamed: 0</th>\n",
       "      <th>Shoes_names</th>\n",
       "      <th>shoes_category</th>\n",
       "      <th>shoes_color</th>\n",
       "      <th>shoes_price</th>\n",
       "      <th>Color1</th>\n",
       "      <th>Color2</th>\n",
       "      <th>Color3</th>\n",
       "      <th>Quantity</th>\n",
       "      <th>Ratings</th>\n",
       "      <th>Reviews</th>\n",
       "      <th>Counts</th>\n",
       "      <th>StyleCode</th>\n",
       "    </tr>\n",
       "  </thead>\n",
       "  <tbody>\n",
       "    <tr>\n",
       "      <th>0</th>\n",
       "      <td>0</td>\n",
       "      <td>Air Jordan 1 Low SE</td>\n",
       "      <td>Women's Shoes</td>\n",
       "      <td>2 Colours</td>\n",
       "      <td>10295.0</td>\n",
       "      <td>: Light Bone</td>\n",
       "      <td>Phantom</td>\n",
       "      <td>Coconut Milk</td>\n",
       "      <td>1</td>\n",
       "      <td>4.800000</td>\n",
       "      <td>0.0</td>\n",
       "      <td>13.0</td>\n",
       "      <td>FZ3967-072</td>\n",
       "    </tr>\n",
       "    <tr>\n",
       "      <th>1</th>\n",
       "      <td>1</td>\n",
       "      <td>Nike Court Vision Low</td>\n",
       "      <td>Men's Shoes</td>\n",
       "      <td>1 Colour</td>\n",
       "      <td>5695.0</td>\n",
       "      <td>: Light Silver</td>\n",
       "      <td>Black</td>\n",
       "      <td>Deep Royal Blue</td>\n",
       "      <td>1</td>\n",
       "      <td>0.000000</td>\n",
       "      <td>1.0</td>\n",
       "      <td>13.0</td>\n",
       "      <td>FB8886-001</td>\n",
       "    </tr>\n",
       "    <tr>\n",
       "      <th>2</th>\n",
       "      <td>2</td>\n",
       "      <td>Nike Dunk Low SE</td>\n",
       "      <td>Women's Shoes</td>\n",
       "      <td>1 Colour</td>\n",
       "      <td>9695.0</td>\n",
       "      <td>: Baroque Brown</td>\n",
       "      <td>Velvet Brown</td>\n",
       "      <td>Deep Jungle</td>\n",
       "      <td>1</td>\n",
       "      <td>0.000000</td>\n",
       "      <td>0.0</td>\n",
       "      <td>11.0</td>\n",
       "      <td>FQ8174-237</td>\n",
       "    </tr>\n",
       "    <tr>\n",
       "      <th>3</th>\n",
       "      <td>3</td>\n",
       "      <td>Nike Air Max 1</td>\n",
       "      <td>Men's shoes</td>\n",
       "      <td>5 Colours</td>\n",
       "      <td>12795.0</td>\n",
       "      <td>: Burgundy Crush</td>\n",
       "      <td>Plum Eclipse</td>\n",
       "      <td>Burgundy Crus</td>\n",
       "      <td>1</td>\n",
       "      <td>3.210811</td>\n",
       "      <td>0.0</td>\n",
       "      <td>13.0</td>\n",
       "      <td>FB8876-600</td>\n",
       "    </tr>\n",
       "    <tr>\n",
       "      <th>4</th>\n",
       "      <td>4</td>\n",
       "      <td>Air Jordan 1 Low SE</td>\n",
       "      <td>Women's Shoes</td>\n",
       "      <td>1 Colour</td>\n",
       "      <td>10295.0</td>\n",
       "      <td>: Sail</td>\n",
       "      <td>Light Orewood Brown</td>\n",
       "      <td>White</td>\n",
       "      <td>1</td>\n",
       "      <td>0.000000</td>\n",
       "      <td>0.0</td>\n",
       "      <td>NaN</td>\n",
       "      <td>FQ8075-133</td>\n",
       "    </tr>\n",
       "    <tr>\n",
       "      <th>...</th>\n",
       "      <td>...</td>\n",
       "      <td>...</td>\n",
       "      <td>...</td>\n",
       "      <td>...</td>\n",
       "      <td>...</td>\n",
       "      <td>...</td>\n",
       "      <td>...</td>\n",
       "      <td>...</td>\n",
       "      <td>...</td>\n",
       "      <td>...</td>\n",
       "      <td>...</td>\n",
       "      <td>...</td>\n",
       "      <td>...</td>\n",
       "    </tr>\n",
       "    <tr>\n",
       "      <th>510</th>\n",
       "      <td>510</td>\n",
       "      <td>BLACK wedge slipp</td>\n",
       "      <td>for women</td>\n",
       "      <td>All Colours</td>\n",
       "      <td>3897.0</td>\n",
       "      <td>-</td>\n",
       "      <td>NaN</td>\n",
       "      <td>NaN</td>\n",
       "      <td>1</td>\n",
       "      <td>3.210811</td>\n",
       "      <td>NaN</td>\n",
       "      <td>NaN</td>\n",
       "      <td>None</td>\n",
       "    </tr>\n",
       "    <tr>\n",
       "      <th>511</th>\n",
       "      <td>511</td>\n",
       "      <td>Woods black strappy sandal</td>\n",
       "      <td>for women</td>\n",
       "      <td>All Colours</td>\n",
       "      <td>4797.0</td>\n",
       "      <td>BLACK</td>\n",
       "      <td>NaN</td>\n",
       "      <td>NaN</td>\n",
       "      <td>1</td>\n",
       "      <td>3.210811</td>\n",
       "      <td>NaN</td>\n",
       "      <td>9.0</td>\n",
       "      <td>None</td>\n",
       "    </tr>\n",
       "    <tr>\n",
       "      <th>512</th>\n",
       "      <td>512</td>\n",
       "      <td>Woodland LGREY 2 loafers</td>\n",
       "      <td>for women</td>\n",
       "      <td>All Colours</td>\n",
       "      <td>1257.0</td>\n",
       "      <td>TURQUOISE</td>\n",
       "      <td>NaN</td>\n",
       "      <td>NaN</td>\n",
       "      <td>1</td>\n",
       "      <td>3.210811</td>\n",
       "      <td>NaN</td>\n",
       "      <td>13.0</td>\n",
       "      <td>None</td>\n",
       "    </tr>\n",
       "    <tr>\n",
       "      <th>513</th>\n",
       "      <td>513</td>\n",
       "      <td>Beige casual sneak</td>\n",
       "      <td>for women</td>\n",
       "      <td>All Colours</td>\n",
       "      <td>447.0</td>\n",
       "      <td>FUSCHIA</td>\n",
       "      <td>NaN</td>\n",
       "      <td>NaN</td>\n",
       "      <td>1</td>\n",
       "      <td>3.210811</td>\n",
       "      <td>NaN</td>\n",
       "      <td>9.0</td>\n",
       "      <td>None</td>\n",
       "    </tr>\n",
       "    <tr>\n",
       "      <th>514</th>\n",
       "      <td>514</td>\n",
       "      <td>BLACK wedge heel sandals</td>\n",
       "      <td>for women</td>\n",
       "      <td>All Colours</td>\n",
       "      <td>1647.0</td>\n",
       "      <td>BLACK</td>\n",
       "      <td>NaN</td>\n",
       "      <td>NaN</td>\n",
       "      <td>1</td>\n",
       "      <td>3.210811</td>\n",
       "      <td>NaN</td>\n",
       "      <td>10.0</td>\n",
       "      <td>None</td>\n",
       "    </tr>\n",
       "  </tbody>\n",
       "</table>\n",
       "<p>515 rows × 13 columns</p>\n",
       "</div>"
      ],
      "text/plain": [
       "     Unnamed: 0                 Shoes_names shoes_category  shoes_color  \\\n",
       "0             0         Air Jordan 1 Low SE  Women's Shoes    2 Colours   \n",
       "1             1       Nike Court Vision Low    Men's Shoes     1 Colour   \n",
       "2             2            Nike Dunk Low SE  Women's Shoes     1 Colour   \n",
       "3             3              Nike Air Max 1    Men's shoes    5 Colours   \n",
       "4             4         Air Jordan 1 Low SE  Women's Shoes     1 Colour   \n",
       "..          ...                         ...            ...          ...   \n",
       "510         510           BLACK wedge slipp      for women  All Colours   \n",
       "511         511  Woods black strappy sandal      for women  All Colours   \n",
       "512         512    Woodland LGREY 2 loafers      for women  All Colours   \n",
       "513         513          Beige casual sneak      for women  All Colours   \n",
       "514         514    BLACK wedge heel sandals      for women  All Colours   \n",
       "\n",
       "     shoes_price            Color1               Color2           Color3  \\\n",
       "0        10295.0      : Light Bone              Phantom     Coconut Milk   \n",
       "1         5695.0    : Light Silver                Black  Deep Royal Blue   \n",
       "2         9695.0   : Baroque Brown         Velvet Brown      Deep Jungle   \n",
       "3        12795.0  : Burgundy Crush         Plum Eclipse    Burgundy Crus   \n",
       "4        10295.0            : Sail  Light Orewood Brown            White   \n",
       "..           ...               ...                  ...              ...   \n",
       "510       3897.0                 -                  NaN              NaN   \n",
       "511       4797.0             BLACK                  NaN              NaN   \n",
       "512       1257.0         TURQUOISE                  NaN              NaN   \n",
       "513        447.0           FUSCHIA                  NaN              NaN   \n",
       "514       1647.0             BLACK                  NaN              NaN   \n",
       "\n",
       "     Quantity   Ratings  Reviews  Counts    StyleCode  \n",
       "0           1  4.800000      0.0    13.0   FZ3967-072  \n",
       "1           1  0.000000      1.0    13.0   FB8886-001  \n",
       "2           1  0.000000      0.0    11.0   FQ8174-237  \n",
       "3           1  3.210811      0.0    13.0   FB8876-600  \n",
       "4           1  0.000000      0.0     NaN   FQ8075-133  \n",
       "..        ...       ...      ...     ...          ...  \n",
       "510         1  3.210811      NaN     NaN         None  \n",
       "511         1  3.210811      NaN     9.0         None  \n",
       "512         1  3.210811      NaN    13.0         None  \n",
       "513         1  3.210811      NaN     9.0         None  \n",
       "514         1  3.210811      NaN    10.0         None  \n",
       "\n",
       "[515 rows x 13 columns]"
      ]
     },
     "execution_count": 181,
     "metadata": {},
     "output_type": "execute_result"
    }
   ],
   "source": [
    "df=pd.read_csv('CapstoneFile.csv')\n",
    "df"
   ]
  },
  {
   "cell_type": "code",
   "execution_count": 182,
   "id": "2c837269",
   "metadata": {},
   "outputs": [],
   "source": [
    "df.drop(['Unnamed: 0'], axis=1, inplace=True)"
   ]
  },
  {
   "cell_type": "markdown",
   "id": "dd668723",
   "metadata": {},
   "source": [
    "# EXPLANATORY DATA ANALYSIS"
   ]
  },
  {
   "cell_type": "code",
   "execution_count": 4,
   "id": "8259e7ed",
   "metadata": {},
   "outputs": [
    {
     "data": {
      "text/html": [
       "<div>\n",
       "<style scoped>\n",
       "    .dataframe tbody tr th:only-of-type {\n",
       "        vertical-align: middle;\n",
       "    }\n",
       "\n",
       "    .dataframe tbody tr th {\n",
       "        vertical-align: top;\n",
       "    }\n",
       "\n",
       "    .dataframe thead th {\n",
       "        text-align: right;\n",
       "    }\n",
       "</style>\n",
       "<table border=\"1\" class=\"dataframe\">\n",
       "  <thead>\n",
       "    <tr style=\"text-align: right;\">\n",
       "      <th></th>\n",
       "      <th>Shoes_names</th>\n",
       "      <th>shoes_category</th>\n",
       "      <th>shoes_color</th>\n",
       "      <th>shoes_price</th>\n",
       "      <th>Color1</th>\n",
       "      <th>Color2</th>\n",
       "      <th>Color3</th>\n",
       "      <th>Quantity</th>\n",
       "      <th>Ratings</th>\n",
       "      <th>Reviews</th>\n",
       "      <th>Counts</th>\n",
       "      <th>StyleCode</th>\n",
       "    </tr>\n",
       "  </thead>\n",
       "  <tbody>\n",
       "    <tr>\n",
       "      <th>0</th>\n",
       "      <td>Air Jordan 1 Low SE</td>\n",
       "      <td>Women's Shoes</td>\n",
       "      <td>2 Colours</td>\n",
       "      <td>10295.0</td>\n",
       "      <td>: Light Bone</td>\n",
       "      <td>Phantom</td>\n",
       "      <td>Coconut Milk</td>\n",
       "      <td>1</td>\n",
       "      <td>4.800000</td>\n",
       "      <td>0.0</td>\n",
       "      <td>13.0</td>\n",
       "      <td>FZ3967-072</td>\n",
       "    </tr>\n",
       "    <tr>\n",
       "      <th>1</th>\n",
       "      <td>Nike Court Vision Low</td>\n",
       "      <td>Men's Shoes</td>\n",
       "      <td>1 Colour</td>\n",
       "      <td>5695.0</td>\n",
       "      <td>: Light Silver</td>\n",
       "      <td>Black</td>\n",
       "      <td>Deep Royal Blue</td>\n",
       "      <td>1</td>\n",
       "      <td>0.000000</td>\n",
       "      <td>1.0</td>\n",
       "      <td>13.0</td>\n",
       "      <td>FB8886-001</td>\n",
       "    </tr>\n",
       "    <tr>\n",
       "      <th>2</th>\n",
       "      <td>Nike Dunk Low SE</td>\n",
       "      <td>Women's Shoes</td>\n",
       "      <td>1 Colour</td>\n",
       "      <td>9695.0</td>\n",
       "      <td>: Baroque Brown</td>\n",
       "      <td>Velvet Brown</td>\n",
       "      <td>Deep Jungle</td>\n",
       "      <td>1</td>\n",
       "      <td>0.000000</td>\n",
       "      <td>0.0</td>\n",
       "      <td>11.0</td>\n",
       "      <td>FQ8174-237</td>\n",
       "    </tr>\n",
       "    <tr>\n",
       "      <th>3</th>\n",
       "      <td>Nike Air Max 1</td>\n",
       "      <td>Men's shoes</td>\n",
       "      <td>5 Colours</td>\n",
       "      <td>12795.0</td>\n",
       "      <td>: Burgundy Crush</td>\n",
       "      <td>Plum Eclipse</td>\n",
       "      <td>Burgundy Crus</td>\n",
       "      <td>1</td>\n",
       "      <td>3.210811</td>\n",
       "      <td>0.0</td>\n",
       "      <td>13.0</td>\n",
       "      <td>FB8876-600</td>\n",
       "    </tr>\n",
       "    <tr>\n",
       "      <th>4</th>\n",
       "      <td>Air Jordan 1 Low SE</td>\n",
       "      <td>Women's Shoes</td>\n",
       "      <td>1 Colour</td>\n",
       "      <td>10295.0</td>\n",
       "      <td>: Sail</td>\n",
       "      <td>Light Orewood Brown</td>\n",
       "      <td>White</td>\n",
       "      <td>1</td>\n",
       "      <td>0.000000</td>\n",
       "      <td>0.0</td>\n",
       "      <td>NaN</td>\n",
       "      <td>FQ8075-133</td>\n",
       "    </tr>\n",
       "  </tbody>\n",
       "</table>\n",
       "</div>"
      ],
      "text/plain": [
       "             Shoes_names shoes_category shoes_color  shoes_price  \\\n",
       "0    Air Jordan 1 Low SE  Women's Shoes   2 Colours      10295.0   \n",
       "1  Nike Court Vision Low    Men's Shoes    1 Colour       5695.0   \n",
       "2       Nike Dunk Low SE  Women's Shoes    1 Colour       9695.0   \n",
       "3         Nike Air Max 1    Men's shoes   5 Colours      12795.0   \n",
       "4    Air Jordan 1 Low SE  Women's Shoes    1 Colour      10295.0   \n",
       "\n",
       "             Color1               Color2           Color3  Quantity   Ratings  \\\n",
       "0      : Light Bone              Phantom     Coconut Milk         1  4.800000   \n",
       "1    : Light Silver                Black  Deep Royal Blue         1  0.000000   \n",
       "2   : Baroque Brown         Velvet Brown      Deep Jungle         1  0.000000   \n",
       "3  : Burgundy Crush         Plum Eclipse    Burgundy Crus         1  3.210811   \n",
       "4            : Sail  Light Orewood Brown            White         1  0.000000   \n",
       "\n",
       "   Reviews  Counts    StyleCode  \n",
       "0      0.0    13.0   FZ3967-072  \n",
       "1      1.0    13.0   FB8886-001  \n",
       "2      0.0    11.0   FQ8174-237  \n",
       "3      0.0    13.0   FB8876-600  \n",
       "4      0.0     NaN   FQ8075-133  "
      ]
     },
     "execution_count": 4,
     "metadata": {},
     "output_type": "execute_result"
    }
   ],
   "source": [
    "df.head()"
   ]
  },
  {
   "cell_type": "code",
   "execution_count": 6,
   "id": "43b092b7",
   "metadata": {},
   "outputs": [
    {
     "data": {
      "text/html": [
       "<div>\n",
       "<style scoped>\n",
       "    .dataframe tbody tr th:only-of-type {\n",
       "        vertical-align: middle;\n",
       "    }\n",
       "\n",
       "    .dataframe tbody tr th {\n",
       "        vertical-align: top;\n",
       "    }\n",
       "\n",
       "    .dataframe thead th {\n",
       "        text-align: right;\n",
       "    }\n",
       "</style>\n",
       "<table border=\"1\" class=\"dataframe\">\n",
       "  <thead>\n",
       "    <tr style=\"text-align: right;\">\n",
       "      <th></th>\n",
       "      <th>Shoes_names</th>\n",
       "      <th>shoes_category</th>\n",
       "      <th>shoes_color</th>\n",
       "      <th>shoes_price</th>\n",
       "      <th>Color1</th>\n",
       "      <th>Color2</th>\n",
       "      <th>Color3</th>\n",
       "      <th>Quantity</th>\n",
       "      <th>Ratings</th>\n",
       "      <th>Reviews</th>\n",
       "      <th>Counts</th>\n",
       "      <th>StyleCode</th>\n",
       "    </tr>\n",
       "  </thead>\n",
       "  <tbody>\n",
       "    <tr>\n",
       "      <th>510</th>\n",
       "      <td>BLACK wedge slipp</td>\n",
       "      <td>for women</td>\n",
       "      <td>All Colours</td>\n",
       "      <td>3897.0</td>\n",
       "      <td>-</td>\n",
       "      <td>NaN</td>\n",
       "      <td>NaN</td>\n",
       "      <td>1</td>\n",
       "      <td>3.210811</td>\n",
       "      <td>NaN</td>\n",
       "      <td>NaN</td>\n",
       "      <td>None</td>\n",
       "    </tr>\n",
       "    <tr>\n",
       "      <th>511</th>\n",
       "      <td>Woods black strappy sandal</td>\n",
       "      <td>for women</td>\n",
       "      <td>All Colours</td>\n",
       "      <td>4797.0</td>\n",
       "      <td>BLACK</td>\n",
       "      <td>NaN</td>\n",
       "      <td>NaN</td>\n",
       "      <td>1</td>\n",
       "      <td>3.210811</td>\n",
       "      <td>NaN</td>\n",
       "      <td>9.0</td>\n",
       "      <td>None</td>\n",
       "    </tr>\n",
       "    <tr>\n",
       "      <th>512</th>\n",
       "      <td>Woodland LGREY 2 loafers</td>\n",
       "      <td>for women</td>\n",
       "      <td>All Colours</td>\n",
       "      <td>1257.0</td>\n",
       "      <td>TURQUOISE</td>\n",
       "      <td>NaN</td>\n",
       "      <td>NaN</td>\n",
       "      <td>1</td>\n",
       "      <td>3.210811</td>\n",
       "      <td>NaN</td>\n",
       "      <td>13.0</td>\n",
       "      <td>None</td>\n",
       "    </tr>\n",
       "    <tr>\n",
       "      <th>513</th>\n",
       "      <td>Beige casual sneak</td>\n",
       "      <td>for women</td>\n",
       "      <td>All Colours</td>\n",
       "      <td>447.0</td>\n",
       "      <td>FUSCHIA</td>\n",
       "      <td>NaN</td>\n",
       "      <td>NaN</td>\n",
       "      <td>1</td>\n",
       "      <td>3.210811</td>\n",
       "      <td>NaN</td>\n",
       "      <td>9.0</td>\n",
       "      <td>None</td>\n",
       "    </tr>\n",
       "    <tr>\n",
       "      <th>514</th>\n",
       "      <td>BLACK wedge heel sandals</td>\n",
       "      <td>for women</td>\n",
       "      <td>All Colours</td>\n",
       "      <td>1647.0</td>\n",
       "      <td>BLACK</td>\n",
       "      <td>NaN</td>\n",
       "      <td>NaN</td>\n",
       "      <td>1</td>\n",
       "      <td>3.210811</td>\n",
       "      <td>NaN</td>\n",
       "      <td>10.0</td>\n",
       "      <td>None</td>\n",
       "    </tr>\n",
       "  </tbody>\n",
       "</table>\n",
       "</div>"
      ],
      "text/plain": [
       "                    Shoes_names shoes_category  shoes_color  shoes_price  \\\n",
       "510           BLACK wedge slipp      for women  All Colours       3897.0   \n",
       "511  Woods black strappy sandal      for women  All Colours       4797.0   \n",
       "512    Woodland LGREY 2 loafers      for women  All Colours       1257.0   \n",
       "513          Beige casual sneak      for women  All Colours        447.0   \n",
       "514    BLACK wedge heel sandals      for women  All Colours       1647.0   \n",
       "\n",
       "        Color1 Color2 Color3  Quantity   Ratings  Reviews  Counts StyleCode  \n",
       "510          -    NaN    NaN         1  3.210811      NaN     NaN      None  \n",
       "511      BLACK    NaN    NaN         1  3.210811      NaN     9.0      None  \n",
       "512  TURQUOISE    NaN    NaN         1  3.210811      NaN    13.0      None  \n",
       "513    FUSCHIA    NaN    NaN         1  3.210811      NaN     9.0      None  \n",
       "514      BLACK    NaN    NaN         1  3.210811      NaN    10.0      None  "
      ]
     },
     "execution_count": 6,
     "metadata": {},
     "output_type": "execute_result"
    }
   ],
   "source": [
    "df.tail()"
   ]
  },
  {
   "cell_type": "code",
   "execution_count": 7,
   "id": "238df1db",
   "metadata": {},
   "outputs": [
    {
     "data": {
      "text/plain": [
       "Index(['Shoes_names', 'shoes_category', 'shoes_color', 'shoes_price', 'Color1',\n",
       "       'Color2', 'Color3', 'Quantity', 'Ratings', 'Reviews', 'Counts',\n",
       "       'StyleCode'],\n",
       "      dtype='object')"
      ]
     },
     "execution_count": 7,
     "metadata": {},
     "output_type": "execute_result"
    }
   ],
   "source": [
    "df.columns"
   ]
  },
  {
   "cell_type": "code",
   "execution_count": 8,
   "id": "1293372d",
   "metadata": {},
   "outputs": [
    {
     "data": {
      "text/plain": [
       "['Shoes_names',\n",
       " 'shoes_category',\n",
       " 'shoes_color',\n",
       " 'shoes_price',\n",
       " 'Color1',\n",
       " 'Color2',\n",
       " 'Color3',\n",
       " 'Quantity',\n",
       " 'Ratings',\n",
       " 'Reviews',\n",
       " 'Counts',\n",
       " 'StyleCode']"
      ]
     },
     "execution_count": 8,
     "metadata": {},
     "output_type": "execute_result"
    }
   ],
   "source": [
    "df.columns.to_list()"
   ]
  },
  {
   "cell_type": "code",
   "execution_count": 183,
   "id": "f1bc4c3d",
   "metadata": {},
   "outputs": [
    {
     "data": {
      "text/plain": [
       "dtype('int32')"
      ]
     },
     "execution_count": 183,
     "metadata": {},
     "output_type": "execute_result"
    }
   ],
   "source": [
    "df['Ratings']=df['Ratings'].astype(int)\n",
    "df['Ratings'].dtype"
   ]
  },
  {
   "cell_type": "code",
   "execution_count": 145,
   "id": "65ff92f8",
   "metadata": {},
   "outputs": [
    {
     "name": "stdout",
     "output_type": "stream",
     "text": [
      "<class 'pandas.core.frame.DataFrame'>\n",
      "RangeIndex: 515 entries, 0 to 514\n",
      "Data columns (total 12 columns):\n",
      " #   Column          Non-Null Count  Dtype  \n",
      "---  ------          --------------  -----  \n",
      " 0   Shoes_names     515 non-null    object \n",
      " 1   shoes_category  515 non-null    object \n",
      " 2   shoes_color     505 non-null    object \n",
      " 3   shoes_price     511 non-null    float64\n",
      " 4   Color1          514 non-null    object \n",
      " 5   Color2          280 non-null    object \n",
      " 6   Color3          225 non-null    object \n",
      " 7   Quantity        515 non-null    int64  \n",
      " 8   Ratings         515 non-null    int32  \n",
      " 9   Reviews         196 non-null    float64\n",
      " 10  Counts          420 non-null    float64\n",
      " 11  StyleCode       515 non-null    object \n",
      "dtypes: float64(3), int32(1), int64(1), object(7)\n",
      "memory usage: 46.4+ KB\n"
     ]
    }
   ],
   "source": [
    "df.info()"
   ]
  },
  {
   "cell_type": "code",
   "execution_count": 146,
   "id": "8bca92fc",
   "metadata": {},
   "outputs": [
    {
     "name": "stdout",
     "output_type": "stream",
     "text": [
      "PUMA 22 FH Rubber Unisex Cricket Shoes                            8\n",
      "Nike Air Force 1 '07                                              7\n",
      "Superstar Shoes                                                   4\n",
      "Ultimashow Shoes                                                  4\n",
      "Brown slipp                                                       4\n",
      "                                                                 ..\n",
      "Columbia Men BLACK ESCAPE THRIVE ULTRA                            1\n",
      "Columbia Women Red TRAILSTORM MID Water Resistant Shoes           1\n",
      "Columbia Women Purple Plateau Water Resistant Shoes               1\n",
      "Columbia Women Black PEAKFREAK X2 OUTDRY (Complete Waterproof)    1\n",
      "Beige casual sneak                                                1\n",
      "Name: Shoes_names, Length: 426, dtype: int64\n",
      "\n",
      "\n",
      "Men                          137\n",
      "for women                    100\n",
      "Women                         30\n",
      "Men's Shoes                   25\n",
      "Women's Shoes                 16\n",
      "                            ... \n",
      "Golf Shoes (Wide)              1\n",
      "MG High-Top Football Boot      1\n",
      "Peacoat-Red Dahlia             1\n",
      "Dark Denim-Puma White          1\n",
      "Puma Black-Puma Team Gold      1\n",
      "Name: shoes_category, Length: 130, dtype: int64\n",
      "\n",
      "\n",
      "All Colours        200\n",
      "1 Colour            47\n",
      "2 COLORS            46\n",
      "3 COLORS            25\n",
      "2 Colours           24\n",
      "Black               22\n",
      "2 colours           14\n",
      "3 Colours           13\n",
      "Grey                12\n",
      "3 colours           11\n",
      "6 COLORS            10\n",
      "4 Colours            9\n",
      "8 COLORS             8\n",
      "Blue                 8\n",
      "4 COLORS             7\n",
      "Brown                5\n",
      "5 Colours            5\n",
      "White                4\n",
      "5 colours            4\n",
      "4 colours            3\n",
      "Red                  3\n",
      "8 colours            3\n",
      "Green                3\n",
      "5 COLORS             2\n",
      "9 COLORS             2\n",
      "6 Colours            2\n",
      "BLACK                2\n",
      "Orange               2\n",
      "Multi                1\n",
      "BLUE                 1\n",
      "GREEN                1\n",
      "BROWN                1\n",
      "Purple               1\n",
      "PURPLE               1\n",
      "3 colours · new      1\n",
      "7 colours · new      1\n",
      "9 colours            1\n",
      "Name: shoes_color, dtype: int64\n",
      "\n",
      "\n",
      "397.0      32\n",
      "3897.0     12\n",
      "8999.0     11\n",
      "9695.0     10\n",
      "11895.0     9\n",
      "           ..\n",
      "3919.5      1\n",
      "1649.5      1\n",
      "8399.5      1\n",
      "6000.0      1\n",
      "447.0       1\n",
      "Name: shoes_price, Length: 195, dtype: int64\n",
      "\n",
      "\n",
      "-                                  96\n",
      ": White                            29\n",
      ": Black                            25\n",
      "BLACK                              22\n",
      "e Black                            11\n",
      "                                   ..\n",
      "['', ' Puma Black-Strong Blue']     1\n",
      "['', ' Quarry-Sun Stream']          1\n",
      "Light Cloud                         1\n",
      "Mud                                 1\n",
      "TURQUOISE                           1\n",
      "Name: Color1, Length: 183, dtype: int64\n",
      "\n",
      "\n",
      "None             100\n",
      "Black             20\n",
      "White             19\n",
      " Cloud White      10\n",
      " Core Black        8\n",
      "                ... \n",
      "Cargo Khaki        1\n",
      "Off-Noi            1\n",
      "Gum Yellow         1\n",
      "Aquatone           1\n",
      " Grey Four         1\n",
      "Name: Color2, Length: 98, dtype: int64\n",
      "\n",
      "\n",
      "None               100\n",
      "White               21\n",
      "Black                7\n",
      "Deep Jungle          5\n",
      " Cloud White         5\n",
      "                  ... \n",
      "Royal Blue           1\n",
      "Industrial Blue      1\n",
      "Metallic Gold        1\n",
      "Multi-Colour         1\n",
      "Varsity Red          1\n",
      "Name: Color3, Length: 63, dtype: int64\n",
      "\n",
      "\n",
      "1    515\n",
      "Name: Quantity, dtype: int64\n",
      "\n",
      "\n",
      "3    404\n",
      "4     73\n",
      "0     33\n",
      "5      5\n",
      "Name: Ratings, dtype: int64\n",
      "\n",
      "\n",
      "0.0      48\n",
      "17.0      7\n",
      "1.0       6\n",
      "19.0      5\n",
      "131.0     5\n",
      "         ..\n",
      "150.0     1\n",
      "112.0     1\n",
      "346.0     1\n",
      "118.0     1\n",
      "83.0      1\n",
      "Name: Reviews, Length: 81, dtype: int64\n",
      "\n",
      "\n",
      "1.0     65\n",
      "13.0    62\n",
      "8.0     60\n",
      "3.0     53\n",
      "11.0    31\n",
      "9.0     29\n",
      "12.0    27\n",
      "14.0    20\n",
      "10.0    17\n",
      "15.0    15\n",
      "7.0     13\n",
      "5.0     10\n",
      "17.0     9\n",
      "16.0     2\n",
      "20.0     2\n",
      "19.0     2\n",
      "21.0     2\n",
      "30.0     1\n",
      "Name: Counts, dtype: int64\n",
      "\n",
      "\n",
      "None                200\n",
      "SKU : BM3926-010      7\n",
      "IG2934                6\n",
      "FX3632                5\n",
      "EG4959                4\n",
      "                   ... \n",
      " DD9293-011           1\n",
      " FJ0742-081           1\n",
      " DX4399-001           1\n",
      " DH3158-108           1\n",
      "SKU : BL0155-616      1\n",
      "Name: StyleCode, Length: 248, dtype: int64\n",
      "\n",
      "\n"
     ]
    }
   ],
   "source": [
    "for i in df.columns:\n",
    "    print(df[i].value_counts())\n",
    "    print(\"\\n\")\n"
   ]
  },
  {
   "cell_type": "code",
   "execution_count": null,
   "id": "952c5f8e",
   "metadata": {},
   "outputs": [],
   "source": [
    "We can note different value counts here. "
   ]
  },
  {
   "cell_type": "markdown",
   "id": "b963526d",
   "metadata": {},
   "source": [
    "# Checking for null values\n"
   ]
  },
  {
   "cell_type": "code",
   "execution_count": 147,
   "id": "f423ee99",
   "metadata": {},
   "outputs": [
    {
     "data": {
      "text/plain": [
       "Shoes_names         0\n",
       "shoes_category      0\n",
       "shoes_color        10\n",
       "shoes_price         4\n",
       "Color1              1\n",
       "Color2            235\n",
       "Color3            290\n",
       "Quantity            0\n",
       "Ratings             0\n",
       "Reviews           319\n",
       "Counts             95\n",
       "StyleCode           0\n",
       "dtype: int64"
      ]
     },
     "execution_count": 147,
     "metadata": {},
     "output_type": "execute_result"
    }
   ],
   "source": [
    "df.isnull().sum()"
   ]
  },
  {
   "cell_type": "code",
   "execution_count": 12,
   "id": "a71cd043",
   "metadata": {},
   "outputs": [
    {
     "data": {
      "text/plain": [
       "<AxesSubplot:>"
      ]
     },
     "execution_count": 12,
     "metadata": {},
     "output_type": "execute_result"
    },
    {
     "data": {
      "image/png": "[encoded data removed]",
      "text/plain": [
       "<Figure size 640x480 with 2 Axes>"
      ]
     },
     "metadata": {},
     "output_type": "display_data"
    }
   ],
   "source": [
    "sns.heatmap(df.isnull())"
   ]
  },
  {
   "cell_type": "code",
   "execution_count": 184,
   "id": "2072febe",
   "metadata": {},
   "outputs": [],
   "source": [
    "df['shoes_color']=df['shoes_color'].fillna(df['shoes_color'].mode()[0])"
   ]
  },
  {
   "cell_type": "code",
   "execution_count": 185,
   "id": "86713fdb",
   "metadata": {},
   "outputs": [],
   "source": [
    "df['shoes_price']=df['shoes_price'].fillna(df['shoes_price'].mean())"
   ]
  },
  {
   "cell_type": "code",
   "execution_count": 186,
   "id": "df3c76bb",
   "metadata": {},
   "outputs": [],
   "source": [
    "df['Color1']=df['Color1'].fillna(df['Color1'].mode()[0])"
   ]
  },
  {
   "cell_type": "code",
   "execution_count": 188,
   "id": "47825fef",
   "metadata": {},
   "outputs": [],
   "source": [
    "df['Color2']=df['Color2'].fillna(df['Color2'].mode()[0])"
   ]
  },
  {
   "cell_type": "code",
   "execution_count": 189,
   "id": "1286387f",
   "metadata": {},
   "outputs": [],
   "source": [
    "df['Color3']=df['Color3'].fillna(df['Color3'].mode()[0])"
   ]
  },
  {
   "cell_type": "code",
   "execution_count": 191,
   "id": "a2669c65",
   "metadata": {},
   "outputs": [],
   "source": [
    "df['Counts']=df['Counts'].fillna(df['Counts'].mean())"
   ]
  },
  {
   "cell_type": "code",
   "execution_count": 192,
   "id": "03edd9a7",
   "metadata": {},
   "outputs": [],
   "source": [
    "df['Reviews']=df['Reviews'].fillna(df['Reviews'].mean())"
   ]
  },
  {
   "cell_type": "code",
   "execution_count": 193,
   "id": "3ee8126f",
   "metadata": {},
   "outputs": [],
   "source": [
    "df['Ratings']=df['Ratings'].fillna(df['Ratings'].mean())"
   ]
  },
  {
   "cell_type": "code",
   "execution_count": 194,
   "id": "0d001354",
   "metadata": {},
   "outputs": [
    {
     "data": {
      "text/plain": [
       "Shoes_names       0\n",
       "shoes_category    0\n",
       "shoes_color       0\n",
       "shoes_price       0\n",
       "Color1            0\n",
       "Color2            0\n",
       "Color3            0\n",
       "Quantity          0\n",
       "Ratings           0\n",
       "Reviews           0\n",
       "Counts            0\n",
       "StyleCode         0\n",
       "dtype: int64"
      ]
     },
     "execution_count": 194,
     "metadata": {},
     "output_type": "execute_result"
    }
   ],
   "source": [
    "df.isnull().sum()"
   ]
  },
  {
   "cell_type": "markdown",
   "id": "aed3b128",
   "metadata": {},
   "source": [
    "Though I could have dropped the Color2 and Color3 columns because of maximum NaN values, I have kept them as there are few \n",
    "columns. "
   ]
  },
  {
   "cell_type": "markdown",
   "id": "cf3d0cc5",
   "metadata": {},
   "source": [
    "# Finally, there are no null values in the dataset, and we can proceed with further analysis"
   ]
  },
  {
   "cell_type": "markdown",
   "id": "11093d40",
   "metadata": {},
   "source": [
    "# First target variable 'Shoes_price' unique values¶"
   ]
  },
  {
   "cell_type": "code",
   "execution_count": 15,
   "id": "7b96d5fd",
   "metadata": {},
   "outputs": [
    {
     "data": {
      "text/plain": [
       "196"
      ]
     },
     "execution_count": 15,
     "metadata": {},
     "output_type": "execute_result"
    }
   ],
   "source": [
    "df['shoes_price'].nunique()"
   ]
  },
  {
   "cell_type": "markdown",
   "id": "25c8e617",
   "metadata": {},
   "source": [
    "Shoes price is the label or target variable and having 196 unique values and the total rows are approximately\n",
    "500.  So we can consider this as a regression based problem and can try various regression algorithms\n",
    "like linear regression, decision tree, randomforest and other regressor algorithms\n"
   ]
  },
  {
   "cell_type": "markdown",
   "id": "204e39cc",
   "metadata": {},
   "source": [
    "# Second target variable 'Ratings' unique values"
   ]
  },
  {
   "cell_type": "code",
   "execution_count": 16,
   "id": "b4e16040",
   "metadata": {},
   "outputs": [
    {
     "data": {
      "text/plain": [
       "4"
      ]
     },
     "execution_count": 16,
     "metadata": {},
     "output_type": "execute_result"
    }
   ],
   "source": [
    "df['Ratings'].nunique()"
   ]
  },
  {
   "cell_type": "code",
   "execution_count": 213,
   "id": "fefa1170",
   "metadata": {},
   "outputs": [
    {
     "data": {
      "text/plain": [
       "array([4, 0, 3, 5])"
      ]
     },
     "execution_count": 213,
     "metadata": {},
     "output_type": "execute_result"
    }
   ],
   "source": [
    "df['Ratings'].unique()"
   ]
  },
  {
   "cell_type": "markdown",
   "id": "37a27e57",
   "metadata": {},
   "source": [
    "The Ratings unique values clearly indicate that there is a class difference or bias in the dataset. So, here we need to \n",
    "apply various classifiers like MultinomialNB, decisiontree classifers, extra treesclassifier, AdaBoosting classifier,\n",
    "and other algorithms."
   ]
  },
  {
   "cell_type": "markdown",
   "id": "4cf32bf7",
   "metadata": {},
   "source": [
    "# The Ratings unique values clearly indicate that there is a class difference or bias in the dataset. So, here we need to \n",
    "apply various classifiers like MultinomialNB, decisiontree classifers, extra treesclassifier, AdaBoosting classifier,\n",
    "and other algorithms."
   ]
  },
  {
   "cell_type": "markdown",
   "id": "a0db7f37",
   "metadata": {},
   "source": [
    "# Unique value table of the different variables of the dataset¶"
   ]
  },
  {
   "cell_type": "code",
   "execution_count": 98,
   "id": "90f04a17",
   "metadata": {},
   "outputs": [
    {
     "data": {
      "text/html": [
       "<div>\n",
       "<style scoped>\n",
       "    .dataframe tbody tr th:only-of-type {\n",
       "        vertical-align: middle;\n",
       "    }\n",
       "\n",
       "    .dataframe tbody tr th {\n",
       "        vertical-align: top;\n",
       "    }\n",
       "\n",
       "    .dataframe thead th {\n",
       "        text-align: right;\n",
       "    }\n",
       "</style>\n",
       "<table border=\"1\" class=\"dataframe\">\n",
       "  <thead>\n",
       "    <tr style=\"text-align: right;\">\n",
       "      <th></th>\n",
       "      <th>ShoesBrands Unique Values</th>\n",
       "    </tr>\n",
       "  </thead>\n",
       "  <tbody>\n",
       "    <tr>\n",
       "      <th>Shoes_names</th>\n",
       "      <td>426</td>\n",
       "    </tr>\n",
       "    <tr>\n",
       "      <th>shoes_category</th>\n",
       "      <td>130</td>\n",
       "    </tr>\n",
       "    <tr>\n",
       "      <th>shoes_color</th>\n",
       "      <td>37</td>\n",
       "    </tr>\n",
       "    <tr>\n",
       "      <th>shoes_price</th>\n",
       "      <td>196</td>\n",
       "    </tr>\n",
       "    <tr>\n",
       "      <th>Color1</th>\n",
       "      <td>183</td>\n",
       "    </tr>\n",
       "    <tr>\n",
       "      <th>Color2</th>\n",
       "      <td>98</td>\n",
       "    </tr>\n",
       "    <tr>\n",
       "      <th>Color3</th>\n",
       "      <td>63</td>\n",
       "    </tr>\n",
       "    <tr>\n",
       "      <th>Quantity</th>\n",
       "      <td>1</td>\n",
       "    </tr>\n",
       "    <tr>\n",
       "      <th>Ratings</th>\n",
       "      <td>4</td>\n",
       "    </tr>\n",
       "    <tr>\n",
       "      <th>Reviews</th>\n",
       "      <td>82</td>\n",
       "    </tr>\n",
       "    <tr>\n",
       "      <th>Counts</th>\n",
       "      <td>19</td>\n",
       "    </tr>\n",
       "    <tr>\n",
       "      <th>StyleCode</th>\n",
       "      <td>248</td>\n",
       "    </tr>\n",
       "  </tbody>\n",
       "</table>\n",
       "</div>"
      ],
      "text/plain": [
       "                ShoesBrands Unique Values\n",
       "Shoes_names                           426\n",
       "shoes_category                        130\n",
       "shoes_color                            37\n",
       "shoes_price                           196\n",
       "Color1                                183\n",
       "Color2                                 98\n",
       "Color3                                 63\n",
       "Quantity                                1\n",
       "Ratings                                 4\n",
       "Reviews                                82\n",
       "Counts                                 19\n",
       "StyleCode                             248"
      ]
     },
     "execution_count": 98,
     "metadata": {},
     "output_type": "execute_result"
    }
   ],
   "source": [
    "df.nunique().to_frame(\"ShoesBrands Unique Values\")"
   ]
  },
  {
   "cell_type": "markdown",
   "id": "7d71e6a5",
   "metadata": {},
   "source": [
    "# Statistical Summary of the dataset¶"
   ]
  },
  {
   "cell_type": "code",
   "execution_count": 99,
   "id": "d5e490a9",
   "metadata": {},
   "outputs": [
    {
     "data": {
      "text/html": [
       "<div>\n",
       "<style scoped>\n",
       "    .dataframe tbody tr th:only-of-type {\n",
       "        vertical-align: middle;\n",
       "    }\n",
       "\n",
       "    .dataframe tbody tr th {\n",
       "        vertical-align: top;\n",
       "    }\n",
       "\n",
       "    .dataframe thead th {\n",
       "        text-align: right;\n",
       "    }\n",
       "</style>\n",
       "<table border=\"1\" class=\"dataframe\">\n",
       "  <thead>\n",
       "    <tr style=\"text-align: right;\">\n",
       "      <th></th>\n",
       "      <th>shoes_price</th>\n",
       "      <th>Quantity</th>\n",
       "      <th>Ratings</th>\n",
       "      <th>Reviews</th>\n",
       "      <th>Counts</th>\n",
       "    </tr>\n",
       "  </thead>\n",
       "  <tbody>\n",
       "    <tr>\n",
       "      <th>count</th>\n",
       "      <td>5.150000e+02</td>\n",
       "      <td>515.0</td>\n",
       "      <td>515.000000</td>\n",
       "      <td>515.000000</td>\n",
       "      <td>515.000000</td>\n",
       "    </tr>\n",
       "    <tr>\n",
       "      <th>mean</th>\n",
       "      <td>4.356083e+07</td>\n",
       "      <td>1.0</td>\n",
       "      <td>2.968932</td>\n",
       "      <td>361.561224</td>\n",
       "      <td>8.540476</td>\n",
       "    </tr>\n",
       "    <tr>\n",
       "      <th>std</th>\n",
       "      <td>4.543773e+08</td>\n",
       "      <td>0.0</td>\n",
       "      <td>0.870510</td>\n",
       "      <td>778.331077</td>\n",
       "      <td>4.522385</td>\n",
       "    </tr>\n",
       "    <tr>\n",
       "      <th>min</th>\n",
       "      <td>1.000000e+00</td>\n",
       "      <td>1.0</td>\n",
       "      <td>0.000000</td>\n",
       "      <td>0.000000</td>\n",
       "      <td>1.000000</td>\n",
       "    </tr>\n",
       "    <tr>\n",
       "      <th>25%</th>\n",
       "      <td>5.170000e+02</td>\n",
       "      <td>1.0</td>\n",
       "      <td>3.000000</td>\n",
       "      <td>47.500000</td>\n",
       "      <td>7.000000</td>\n",
       "    </tr>\n",
       "    <tr>\n",
       "      <th>50%</th>\n",
       "      <td>3.749000e+03</td>\n",
       "      <td>1.0</td>\n",
       "      <td>3.000000</td>\n",
       "      <td>361.561224</td>\n",
       "      <td>8.540476</td>\n",
       "    </tr>\n",
       "    <tr>\n",
       "      <th>75%</th>\n",
       "      <td>7.999000e+03</td>\n",
       "      <td>1.0</td>\n",
       "      <td>3.000000</td>\n",
       "      <td>361.561224</td>\n",
       "      <td>12.000000</td>\n",
       "    </tr>\n",
       "    <tr>\n",
       "      <th>max</th>\n",
       "      <td>9.799140e+09</td>\n",
       "      <td>1.0</td>\n",
       "      <td>5.000000</td>\n",
       "      <td>7207.000000</td>\n",
       "      <td>30.000000</td>\n",
       "    </tr>\n",
       "  </tbody>\n",
       "</table>\n",
       "</div>"
      ],
      "text/plain": [
       "        shoes_price  Quantity     Ratings      Reviews      Counts\n",
       "count  5.150000e+02     515.0  515.000000   515.000000  515.000000\n",
       "mean   4.356083e+07       1.0    2.968932   361.561224    8.540476\n",
       "std    4.543773e+08       0.0    0.870510   778.331077    4.522385\n",
       "min    1.000000e+00       1.0    0.000000     0.000000    1.000000\n",
       "25%    5.170000e+02       1.0    3.000000    47.500000    7.000000\n",
       "50%    3.749000e+03       1.0    3.000000   361.561224    8.540476\n",
       "75%    7.999000e+03       1.0    3.000000   361.561224   12.000000\n",
       "max    9.799140e+09       1.0    5.000000  7207.000000   30.000000"
      ]
     },
     "execution_count": 99,
     "metadata": {},
     "output_type": "execute_result"
    }
   ],
   "source": [
    "df.describe()"
   ]
  },
  {
   "cell_type": "code",
   "execution_count": 100,
   "id": "9d892b87",
   "metadata": {},
   "outputs": [
    {
     "data": {
      "text/plain": [
       "<AxesSubplot:>"
      ]
     },
     "execution_count": 100,
     "metadata": {},
     "output_type": "execute_result"
    },
    {
     "data": {
      "image/png": "[encoded data removed]",
      "text/plain": [
       "<Figure size 640x480 with 2 Axes>"
      ]
     },
     "metadata": {},
     "output_type": "display_data"
    }
   ],
   "source": [
    "sns.heatmap(df.describe(), annot=True, fmt='0.2f',  linecolor='black', cmap='Spectral')"
   ]
  },
  {
   "cell_type": "code",
   "execution_count": null,
   "id": "57064ef7",
   "metadata": {},
   "outputs": [],
   "source": [
    "OBSERVATIONS:\n",
    "    1. All row counts are equal. Therefore, no missing values.\n",
    "    2. No negative values, so the data summary is excellent.\n",
    "    3. Skewness: There is large difference between the mean and median of shoes_price but other all columns have equal values. So\n",
    "       only shoes_price has skewness. \n",
    "    4. Outliers: Again, we can note that there is very large difference between the 75th percentile and max values for all columns\n",
    "       except Quantity. There are outliers in shoes_price, Ratings, Reviews as well as Counts columns.\n",
    "    5. Standard deviation is 0 for Quantity and less than 1 for Ratings. Shoes_price has a very high standard deviation \n",
    "       indicating that the data is widely spread. The Counts column has a SD of just 4. \n",
    "    6. The above statistical method shows 25th percentile and minimum values also.\n",
    " "
   ]
  },
  {
   "cell_type": "markdown",
   "id": "d80e0891",
   "metadata": {},
   "source": [
    "# Separating the categorical as well as numerical data for calculating zscore and skewness. "
   ]
  },
  {
   "cell_type": "code",
   "execution_count": 101,
   "id": "b7001893",
   "metadata": {},
   "outputs": [
    {
     "name": "stdout",
     "output_type": "stream",
     "text": [
      "categorical columns: ['Shoes_names', 'shoes_category', 'shoes_color', 'Color1', 'Color2', 'Color3', 'StyleCode']\n"
     ]
    }
   ],
   "source": [
    "categorical_col=[]    \n",
    "for i in df.dtypes.index:\n",
    "    if df.dtypes[i]==\"object\":\n",
    "        categorical_col.append(i)\n",
    "print(\"categorical columns:\", categorical_col)"
   ]
  },
  {
   "cell_type": "code",
   "execution_count": 102,
   "id": "015ada61",
   "metadata": {},
   "outputs": [
    {
     "name": "stdout",
     "output_type": "stream",
     "text": [
      "Numerical columns: ['shoes_price', 'Quantity', 'Ratings', 'Reviews', 'Counts']\n"
     ]
    }
   ],
   "source": [
    "numerical_col=[]    \n",
    "for i in df.dtypes.index:\n",
    "    if df.dtypes[i]!=\"object\":\n",
    "        numerical_col.append(i)\n",
    "print(\"Numerical columns:\", numerical_col)"
   ]
  },
  {
   "cell_type": "markdown",
   "id": "2b65bf4e",
   "metadata": {},
   "source": [
    "# Graphical Explanatory Data Analysis\n",
    "Univariate Analysis using Countplots¶"
   ]
  },
  {
   "cell_type": "code",
   "execution_count": 103,
   "id": "720d7fb7",
   "metadata": {},
   "outputs": [
    {
     "data": {
      "image/png": "[encoded data removed]",
      "text/plain": [
       "<Figure size 1000x2000 with 12 Axes>"
      ]
     },
     "metadata": {},
     "output_type": "display_data"
    }
   ],
   "source": [
    "sns.set_palette('gist_rainbow_r')\n",
    "plt.figure(figsize=(10,20),facecolor='blue')\n",
    "plotnum=1\n",
    "for col in df:\n",
    "    if plotnum<=19:\n",
    "        plt.subplot(10,3,plotnum)\n",
    "        sns.countplot(df[col])\n",
    "        plt.xlabel(col,fontsize=20)\n",
    "    plotnum+=1\n",
    "plt.show()"
   ]
  },
  {
   "cell_type": "markdown",
   "id": "163a221f",
   "metadata": {},
   "source": [
    "The count plot shows counts of all variables."
   ]
  },
  {
   "cell_type": "code",
   "execution_count": 28,
   "id": "c8359964",
   "metadata": {},
   "outputs": [
    {
     "name": "stdout",
     "output_type": "stream",
     "text": [
      "Minimum shoes_price: 1.0\n",
      "Maximum shoes_price: 9799139993.0\n",
      "Average shoes_price: 43560827.5\n"
     ]
    },
    {
     "data": {
      "image/png": "[encoded data removed]",
      "text/plain": [
       "<Figure size 640x480 with 1 Axes>"
      ]
     },
     "metadata": {},
     "output_type": "display_data"
    }
   ],
   "source": [
    "sns.countplot(x='shoes_price', data=df)\n"
   ]
  },
  {
   "cell_type": "markdown",
   "id": "0a12ff93",
   "metadata": {},
   "source": [
    "The shoes_price column shows many prices."
   ]
  },
  {
   "cell_type": "code",
   "execution_count": 17,
   "id": "fe9c0f8c",
   "metadata": {},
   "outputs": [
    {
     "name": "stdout",
     "output_type": "stream",
     "text": [
      "Men                          137\n",
      "for women                    100\n",
      "Women                         30\n",
      "Men's Shoes                   25\n",
      "Women's Shoes                 16\n",
      "                            ... \n",
      "Golf Shoes (Wide)              1\n",
      "MG High-Top Football Boot      1\n",
      "Peacoat-Red Dahlia             1\n",
      "Dark Denim-Puma White          1\n",
      "Puma Black-Puma Team Gold      1\n",
      "Name: shoes_category, Length: 130, dtype: int64\n"
     ]
    },
    {
     "data": {
      "image/png": "[encoded data removed]",
      "text/plain": [
       "<Figure size 640x480 with 1 Axes>"
      ]
     },
     "metadata": {},
     "output_type": "display_data"
    }
   ],
   "source": [
    "bx=sns.countplot(x='shoes_category', data=df) #Countplot for categorical data\n",
    "print(df['shoes_category'].value_counts())"
   ]
  },
  {
   "cell_type": "code",
   "execution_count": 94,
   "id": "915ba7ed",
   "metadata": {
    "scrolled": true
   },
   "outputs": [
    {
     "name": "stdout",
     "output_type": "stream",
     "text": [
      "All Colours        210\n",
      "1 Colour            47\n",
      "2 COLORS            46\n",
      "3 COLORS            25\n",
      "2 Colours           24\n",
      "Black               22\n",
      "2 colours           14\n",
      "3 Colours           13\n",
      "Grey                12\n",
      "3 colours           11\n",
      "6 COLORS            10\n",
      "4 Colours            9\n",
      "8 COLORS             8\n",
      "Blue                 8\n",
      "4 COLORS             7\n",
      "5 Colours            5\n",
      "Brown                5\n",
      "5 colours            4\n",
      "White                4\n",
      "Red                  3\n",
      "8 colours            3\n",
      "Green                3\n",
      "4 colours            3\n",
      "6 Colours            2\n",
      "Orange               2\n",
      "BLACK                2\n",
      "9 COLORS             2\n",
      "5 COLORS             2\n",
      "9 colours            1\n",
      "Purple               1\n",
      "BROWN                1\n",
      "Multi                1\n",
      "BLUE                 1\n",
      "GREEN                1\n",
      "3 colours · new      1\n",
      "7 colours · new      1\n",
      "PURPLE               1\n",
      "Name: shoes_color, dtype: int64\n"
     ]
    },
    {
     "data": {
      "image/png": "[encoded data removed]",
      "text/plain": [
       "<Figure size 640x480 with 1 Axes>"
      ]
     },
     "metadata": {},
     "output_type": "display_data"
    }
   ],
   "source": [
    "bx=sns.countplot(x='shoes_color', data=df) #Countplot for categorical data\n",
    "print(df['shoes_color'].value_counts())"
   ]
  },
  {
   "cell_type": "code",
   "execution_count": null,
   "id": "f3388303",
   "metadata": {},
   "outputs": [],
   "source": [
    "The shoes_color count plot gives the above information."
   ]
  },
  {
   "cell_type": "code",
   "execution_count": null,
   "id": "e210d2d8",
   "metadata": {},
   "outputs": [],
   "source": [
    "sns.countplot(x='Counts', data=df) #Countplot for categorical data\n",
    "print(df['Counts'].value_counts())\n",
    "plt.xticks(rotation=90)"
   ]
  },
  {
   "cell_type": "code",
   "execution_count": null,
   "id": "87dd99bc",
   "metadata": {},
   "outputs": [],
   "source": [
    "The Counts graph shows counts of different colors of the shoes"
   ]
  },
  {
   "cell_type": "code",
   "execution_count": 104,
   "id": "921a1658",
   "metadata": {},
   "outputs": [
    {
     "data": {
      "text/plain": [
       "<AxesSubplot:xlabel='Ratings', ylabel='count'>"
      ]
     },
     "execution_count": 104,
     "metadata": {},
     "output_type": "execute_result"
    },
    {
     "data": {
      "image/png": "[encoded data removed]",
      "text/plain": [
       "<Figure size 640x480 with 1 Axes>"
      ]
     },
     "metadata": {},
     "output_type": "display_data"
    }
   ],
   "source": [
    "sns.countplot(x='Ratings', data=df)"
   ]
  },
  {
   "cell_type": "markdown",
   "id": "5843495e",
   "metadata": {},
   "source": [
    "The Ratings column shows 4 ratings categories as shown in the plot."
   ]
  },
  {
   "cell_type": "markdown",
   "id": "8d495866",
   "metadata": {},
   "source": [
    "# Histograms as univariate analysis"
   ]
  },
  {
   "cell_type": "code",
   "execution_count": 95,
   "id": "c718750f",
   "metadata": {},
   "outputs": [
    {
     "data": {
      "text/plain": [
       "array([[<AxesSubplot:title={'center':'shoes_price'}>,\n",
       "        <AxesSubplot:title={'center':'Quantity'}>],\n",
       "       [<AxesSubplot:title={'center':'Ratings'}>,\n",
       "        <AxesSubplot:title={'center':'Reviews'}>],\n",
       "       [<AxesSubplot:title={'center':'Counts'}>, <AxesSubplot:>]],\n",
       "      dtype=object)"
      ]
     },
     "execution_count": 95,
     "metadata": {},
     "output_type": "execute_result"
    },
    {
     "data": {
      "image/png": "[encoded data removed]",
      "text/plain": [
       "<Figure size 1000x1000 with 6 Axes>"
      ]
     },
     "metadata": {},
     "output_type": "display_data"
    }
   ],
   "source": [
    "df.hist(bins=20, figsize=(10, 10))"
   ]
  },
  {
   "cell_type": "code",
   "execution_count": null,
   "id": "a8e334ee",
   "metadata": {},
   "outputs": [],
   "source": [
    "The histogram plot shows right-sided skewness in all columns except the Quantity column which is normal. The Ratings column\n",
    "shows a slight left-sided skewness. Counts also has a near normal curve with slight right skewness."
   ]
  },
  {
   "cell_type": "markdown",
   "id": "b1e3b508",
   "metadata": {},
   "source": [
    "# CHECKING FOR OUTLIERS USING ZSCORE METHOD"
   ]
  },
  {
   "cell_type": "code",
   "execution_count": 137,
   "id": "274a61ec",
   "metadata": {},
   "outputs": [
    {
     "data": {
      "image/png": "[encoded data removed]",
      "text/plain": [
       "<Figure size 1500x1500 with 5 Axes>"
      ]
     },
     "metadata": {},
     "output_type": "display_data"
    }
   ],
   "source": [
    "plt.figure(figsize=(15, 15))\n",
    "plotnumber=1\n",
    "for i in numerical_col:\n",
    "    if plotnumber<=27:\n",
    "        ax=plt.subplot(7, 6, plotnumber)\n",
    "        sns.boxplot(df[i], palette='hsv')\n",
    "    plotnumber+=1\n",
    "plt.show()"
   ]
  },
  {
   "cell_type": "markdown",
   "id": "5335c597",
   "metadata": {},
   "source": [
    "We can see that there are outliers in all columns except Quantity which has no outliers. We will try to reduce them with the\n",
    "Z score method"
   ]
  },
  {
   "cell_type": "code",
   "execution_count": 195,
   "id": "f78c97bf",
   "metadata": {},
   "outputs": [],
   "source": [
    "attributes=df[['shoes_price', 'Ratings', 'Reviews', 'Counts']]"
   ]
  },
  {
   "cell_type": "code",
   "execution_count": 196,
   "id": "bfff25a1",
   "metadata": {},
   "outputs": [
    {
     "data": {
      "text/html": [
       "<div>\n",
       "<style scoped>\n",
       "    .dataframe tbody tr th:only-of-type {\n",
       "        vertical-align: middle;\n",
       "    }\n",
       "\n",
       "    .dataframe tbody tr th {\n",
       "        vertical-align: top;\n",
       "    }\n",
       "\n",
       "    .dataframe thead th {\n",
       "        text-align: right;\n",
       "    }\n",
       "</style>\n",
       "<table border=\"1\" class=\"dataframe\">\n",
       "  <thead>\n",
       "    <tr style=\"text-align: right;\">\n",
       "      <th></th>\n",
       "      <th>shoes_price</th>\n",
       "      <th>Ratings</th>\n",
       "      <th>Reviews</th>\n",
       "      <th>Counts</th>\n",
       "    </tr>\n",
       "  </thead>\n",
       "  <tbody>\n",
       "    <tr>\n",
       "      <th>0</th>\n",
       "      <td>0.095940</td>\n",
       "      <td>1.185593</td>\n",
       "      <td>0.464986</td>\n",
       "      <td>0.987059</td>\n",
       "    </tr>\n",
       "    <tr>\n",
       "      <th>1</th>\n",
       "      <td>0.095950</td>\n",
       "      <td>3.413882</td>\n",
       "      <td>0.463700</td>\n",
       "      <td>0.987059</td>\n",
       "    </tr>\n",
       "    <tr>\n",
       "      <th>2</th>\n",
       "      <td>0.095941</td>\n",
       "      <td>3.413882</td>\n",
       "      <td>0.464986</td>\n",
       "      <td>0.544384</td>\n",
       "    </tr>\n",
       "    <tr>\n",
       "      <th>3</th>\n",
       "      <td>0.095934</td>\n",
       "      <td>0.035724</td>\n",
       "      <td>0.464986</td>\n",
       "      <td>0.987059</td>\n",
       "    </tr>\n",
       "    <tr>\n",
       "      <th>4</th>\n",
       "      <td>0.095940</td>\n",
       "      <td>3.413882</td>\n",
       "      <td>0.464986</td>\n",
       "      <td>0.000000</td>\n",
       "    </tr>\n",
       "    <tr>\n",
       "      <th>...</th>\n",
       "      <td>...</td>\n",
       "      <td>...</td>\n",
       "      <td>...</td>\n",
       "      <td>...</td>\n",
       "    </tr>\n",
       "    <tr>\n",
       "      <th>510</th>\n",
       "      <td>0.095954</td>\n",
       "      <td>0.035724</td>\n",
       "      <td>0.000000</td>\n",
       "      <td>0.000000</td>\n",
       "    </tr>\n",
       "    <tr>\n",
       "      <th>511</th>\n",
       "      <td>0.095952</td>\n",
       "      <td>0.035724</td>\n",
       "      <td>0.000000</td>\n",
       "      <td>0.101710</td>\n",
       "    </tr>\n",
       "    <tr>\n",
       "      <th>512</th>\n",
       "      <td>0.095960</td>\n",
       "      <td>0.035724</td>\n",
       "      <td>0.000000</td>\n",
       "      <td>0.987059</td>\n",
       "    </tr>\n",
       "    <tr>\n",
       "      <th>513</th>\n",
       "      <td>0.095962</td>\n",
       "      <td>0.035724</td>\n",
       "      <td>0.000000</td>\n",
       "      <td>0.101710</td>\n",
       "    </tr>\n",
       "    <tr>\n",
       "      <th>514</th>\n",
       "      <td>0.095959</td>\n",
       "      <td>0.035724</td>\n",
       "      <td>0.000000</td>\n",
       "      <td>0.323047</td>\n",
       "    </tr>\n",
       "  </tbody>\n",
       "</table>\n",
       "<p>515 rows × 4 columns</p>\n",
       "</div>"
      ],
      "text/plain": [
       "     shoes_price   Ratings   Reviews    Counts\n",
       "0       0.095940  1.185593  0.464986  0.987059\n",
       "1       0.095950  3.413882  0.463700  0.987059\n",
       "2       0.095941  3.413882  0.464986  0.544384\n",
       "3       0.095934  0.035724  0.464986  0.987059\n",
       "4       0.095940  3.413882  0.464986  0.000000\n",
       "..           ...       ...       ...       ...\n",
       "510     0.095954  0.035724  0.000000  0.000000\n",
       "511     0.095952  0.035724  0.000000  0.101710\n",
       "512     0.095960  0.035724  0.000000  0.987059\n",
       "513     0.095962  0.035724  0.000000  0.101710\n",
       "514     0.095959  0.035724  0.000000  0.323047\n",
       "\n",
       "[515 rows x 4 columns]"
      ]
     },
     "execution_count": 196,
     "metadata": {},
     "output_type": "execute_result"
    }
   ],
   "source": [
    "from scipy.stats import zscore\n",
    "z=np.abs(zscore(attributes))\n",
    "z"
   ]
  },
  {
   "cell_type": "code",
   "execution_count": 109,
   "id": "fa3da5f4",
   "metadata": {},
   "outputs": [
    {
     "data": {
      "text/plain": [
       "(array([  1,   2,   4,   5,   7,   8,   9,  11,  12,  13,  15,  16,  17,\n",
       "         19,  20,  21,  23,  25,  27,  31,  50,  51,  53,  55,  57,  61,\n",
       "         80,  81,  82,  84,  86,  88,  92, 100, 100, 101, 102, 103, 104,\n",
       "        105, 106, 107, 108, 163], dtype=int64),\n",
       " array([1, 1, 1, 1, 1, 1, 1, 1, 1, 1, 1, 1, 1, 1, 1, 1, 1, 1, 1, 1, 1, 1,\n",
       "        1, 1, 1, 1, 1, 1, 1, 1, 1, 1, 1, 2, 3, 2, 2, 2, 2, 2, 2, 2, 2, 0],\n",
       "       dtype=int64))"
      ]
     },
     "execution_count": 109,
     "metadata": {},
     "output_type": "execute_result"
    }
   ],
   "source": [
    "np.where(z>3)"
   ]
  },
  {
   "cell_type": "code",
   "execution_count": 33,
   "id": "b8787421",
   "metadata": {},
   "outputs": [
    {
     "data": {
      "text/plain": [
       "3.295917002270589"
      ]
     },
     "execution_count": 33,
     "metadata": {},
     "output_type": "execute_result"
    }
   ],
   "source": [
    "z.iloc[1,1] # values >3 have outliers showing value greater than 3."
   ]
  },
  {
   "cell_type": "code",
   "execution_count": 34,
   "id": "216c8368",
   "metadata": {},
   "outputs": [
    {
     "data": {
      "text/plain": [
       "21.491091077530356"
      ]
     },
     "execution_count": 34,
     "metadata": {},
     "output_type": "execute_result"
    }
   ],
   "source": [
    "z.iloc[163,0]"
   ]
  },
  {
   "cell_type": "code",
   "execution_count": 197,
   "id": "70291704",
   "metadata": {},
   "outputs": [],
   "source": [
    "df1=df[(z<3).all(axis=1)]"
   ]
  },
  {
   "cell_type": "code",
   "execution_count": 198,
   "id": "1a397e7d",
   "metadata": {},
   "outputs": [
    {
     "name": "stdout",
     "output_type": "stream",
     "text": [
      "Old Dataframe 515\n",
      "New Dataframe 472\n",
      "DataLoss percentage: 8.349514563106796\n"
     ]
    }
   ],
   "source": [
    "print(\"Old Dataframe\", df.shape[0])\n",
    "print(\"New Dataframe\", df1.shape[0])\n",
    "print(\"DataLoss percentage:\", ((df.shape[0]-df1.shape[0])/df.shape[0])*100)"
   ]
  },
  {
   "cell_type": "markdown",
   "id": "65531784",
   "metadata": {},
   "source": [
    "There is 8% dataloss,which is less than 10% dataloss"
   ]
  },
  {
   "cell_type": "code",
   "execution_count": 199,
   "id": "bc362141",
   "metadata": {},
   "outputs": [],
   "source": [
    "df=df1"
   ]
  },
  {
   "cell_type": "markdown",
   "id": "1e87f290",
   "metadata": {},
   "source": [
    "# Bivariate Analysis"
   ]
  },
  {
   "cell_type": "code",
   "execution_count": 113,
   "id": "8ded36fd",
   "metadata": {},
   "outputs": [
    {
     "data": {
      "text/plain": [
       "<seaborn.axisgrid.FacetGrid at 0x16bdd559e20>"
      ]
     },
     "execution_count": 113,
     "metadata": {},
     "output_type": "execute_result"
    },
    {
     "data": {
      "image/png": "[encoded data removed]",
      "text/plain": [
       "<Figure size 500x500 with 1 Axes>"
      ]
     },
     "metadata": {},
     "output_type": "display_data"
    }
   ],
   "source": [
    "sns.lmplot(x='shoes_price', y='Ratings', data=df)"
   ]
  },
  {
   "cell_type": "markdown",
   "id": "fec394d4",
   "metadata": {},
   "source": [
    "The LM plot shows Ratings is negatively related to shoes_price but there are few points passing the best line of fit. "
   ]
  },
  {
   "cell_type": "code",
   "execution_count": 73,
   "id": "98f39976",
   "metadata": {},
   "outputs": [
    {
     "data": {
      "text/plain": [
       "<seaborn.axisgrid.FacetGrid at 0x1f612a49d00>"
      ]
     },
     "execution_count": 73,
     "metadata": {},
     "output_type": "execute_result"
    },
    {
     "data": {
      "image/png": "[encoded data removed]",
      "text/plain": [
       "<Figure size 500x500 with 1 Axes>"
      ]
     },
     "metadata": {},
     "output_type": "display_data"
    }
   ],
   "source": [
    "sns.lmplot(x='shoes_price', y='Reviews', data=df)"
   ]
  },
  {
   "cell_type": "code",
   "execution_count": null,
   "id": "c56458dc",
   "metadata": {},
   "outputs": [],
   "source": [
    "Even with Reviews the shoes_price is negatively correlated and there are some datapoints passing the line of fit."
   ]
  },
  {
   "cell_type": "code",
   "execution_count": 107,
   "id": "71e92132",
   "metadata": {},
   "outputs": [
    {
     "data": {
      "text/plain": [
       "<seaborn.axisgrid.FacetGrid at 0x1f627ef1f10>"
      ]
     },
     "execution_count": 107,
     "metadata": {},
     "output_type": "execute_result"
    },
    {
     "data": {
      "image/png": "[encoded data removed]",
      "text/plain": [
       "<Figure size 500x500 with 1 Axes>"
      ]
     },
     "metadata": {},
     "output_type": "display_data"
    }
   ],
   "source": [
    "sns.lmplot(x='shoes_price', y='Quantity', data=df)"
   ]
  },
  {
   "cell_type": "markdown",
   "id": "9ca5e890",
   "metadata": {},
   "source": [
    "Quantity has a neutral relationship with shoes_price."
   ]
  },
  {
   "cell_type": "code",
   "execution_count": 74,
   "id": "157ed813",
   "metadata": {},
   "outputs": [
    {
     "data": {
      "text/plain": [
       "<seaborn.axisgrid.FacetGrid at 0x1f612aae730>"
      ]
     },
     "execution_count": 74,
     "metadata": {},
     "output_type": "execute_result"
    },
    {
     "data": {
      "image/png": "[encoded data removed]",
      "text/plain": [
       "<Figure size 500x500 with 1 Axes>"
      ]
     },
     "metadata": {},
     "output_type": "display_data"
    }
   ],
   "source": [
    "sns.lmplot(x='shoes_price', y='Counts', data=df)"
   ]
  },
  {
   "cell_type": "markdown",
   "id": "41f9ff9f",
   "metadata": {},
   "source": [
    "Counts also shows an inversely related relationship with shoes_price"
   ]
  },
  {
   "cell_type": "code",
   "execution_count": 114,
   "id": "61fb0999",
   "metadata": {},
   "outputs": [
    {
     "data": {
      "text/plain": [
       "<seaborn.axisgrid.FacetGrid at 0x16bdbb5e700>"
      ]
     },
     "execution_count": 114,
     "metadata": {},
     "output_type": "execute_result"
    },
    {
     "data": {
      "image/png": "[encoded data removed]",
      "text/plain": [
       "<Figure size 500x500 with 1 Axes>"
      ]
     },
     "metadata": {},
     "output_type": "display_data"
    }
   ],
   "source": [
    "sns.lmplot(x='Ratings', y='Reviews', data=df)"
   ]
  },
  {
   "cell_type": "markdown",
   "id": "f1dd369a",
   "metadata": {},
   "source": [
    "Ratings and Reviews are negatively correlated with each other and just 3  points touching the best line of fit."
   ]
  },
  {
   "cell_type": "code",
   "execution_count": 115,
   "id": "2c8498fb",
   "metadata": {},
   "outputs": [
    {
     "data": {
      "text/plain": [
       "<seaborn.axisgrid.FacetGrid at 0x16bdbb608b0>"
      ]
     },
     "execution_count": 115,
     "metadata": {},
     "output_type": "execute_result"
    },
    {
     "data": {
      "image/png": "[encoded data removed]",
      "text/plain": [
       "<Figure size 500x500 with 1 Axes>"
      ]
     },
     "metadata": {},
     "output_type": "display_data"
    }
   ],
   "source": [
    "sns.lmplot(x='Ratings', y='Counts', data=df)"
   ]
  },
  {
   "cell_type": "markdown",
   "id": "873e923c",
   "metadata": {},
   "source": [
    "Ratings and Counts have a positive correlation but not a strong one and there are just few points touching the best line of bit."
   ]
  },
  {
   "cell_type": "code",
   "execution_count": 109,
   "id": "f82d4ab3",
   "metadata": {},
   "outputs": [
    {
     "data": {
      "text/plain": [
       "<AxesSubplot:xlabel='Ratings', ylabel='count'>"
      ]
     },
     "execution_count": 109,
     "metadata": {},
     "output_type": "execute_result"
    },
    {
     "data": {
      "image/png": "[encoded data removed]",
      "text/plain": [
       "<Figure size 640x480 with 1 Axes>"
      ]
     },
     "metadata": {},
     "output_type": "display_data"
    }
   ],
   "source": [
    "sns.countplot(x='Ratings',data=df, hue='Counts')"
   ]
  },
  {
   "cell_type": "code",
   "execution_count": 41,
   "id": "b1cb479b",
   "metadata": {},
   "outputs": [
    {
     "data": {
      "text/plain": [
       "<seaborn.axisgrid.FacetGrid at 0x195a420d130>"
      ]
     },
     "execution_count": 41,
     "metadata": {},
     "output_type": "execute_result"
    },
    {
     "data": {
      "image/png": "[encoded data removed]",
      "text/plain": [
       "<Figure size 500x500 with 1 Axes>"
      ]
     },
     "metadata": {},
     "output_type": "display_data"
    }
   ],
   "source": [
    "sns.lmplot(x='Ratings', y='Quantity', data=df)"
   ]
  },
  {
   "cell_type": "code",
   "execution_count": null,
   "id": "03a56f3e",
   "metadata": {},
   "outputs": [],
   "source": [
    "Here, one can see that both are neutrally correlated and all the points pass through the line of best fit."
   ]
  },
  {
   "cell_type": "code",
   "execution_count": null,
   "id": "4813ad5f",
   "metadata": {},
   "outputs": [],
   "source": [
    "sns.pairplot(data=df) # showing as error or hanging"
   ]
  },
  {
   "cell_type": "markdown",
   "id": "b3e2cfce",
   "metadata": {},
   "source": [
    "# Checking skewness for the data"
   ]
  },
  {
   "cell_type": "code",
   "execution_count": 117,
   "id": "68d121f8",
   "metadata": {},
   "outputs": [
    {
     "data": {
      "image/png": "[encoded data removed]",
      "text/plain": [
       "<Figure size 2000x2500 with 5 Axes>"
      ]
     },
     "metadata": {},
     "output_type": "display_data"
    }
   ],
   "source": [
    "plt.figure (figsize=(20, 25), facecolor='green') #despite the fact that distplot will be depricated, am trying out this. \n",
    "plotnumber=1\n",
    "for column in numerical_col:\n",
    "    if plotnumber<=18:\n",
    "        ax=plt.subplot(6,4, plotnumber)\n",
    "        sns.distplot(df[column], color='b')\n",
    "        plt.xlabel(column, fontsize=20)\n",
    "    plotnumber+=1\n",
    "plt.show()"
   ]
  },
  {
   "cell_type": "markdown",
   "id": "9e9a8197",
   "metadata": {},
   "source": [
    "There is right-sided skewness present in shoes_price column and Ratings column. We will try to reduce them "
   ]
  },
  {
   "cell_type": "code",
   "execution_count": 200,
   "id": "0c60558a",
   "metadata": {},
   "outputs": [
    {
     "data": {
      "text/plain": [
       "shoes_price    6.002277\n",
       "Quantity       0.000000\n",
       "Ratings        2.410439\n",
       "Reviews        0.196566\n",
       "Counts        -0.151384\n",
       "dtype: float64"
      ]
     },
     "execution_count": 200,
     "metadata": {},
     "output_type": "execute_result"
    }
   ],
   "source": [
    "df.skew()"
   ]
  },
  {
   "cell_type": "code",
   "execution_count": 201,
   "id": "7c1d59f9",
   "metadata": {},
   "outputs": [],
   "source": [
    "skew=['shoes_price', 'Ratings']"
   ]
  },
  {
   "cell_type": "code",
   "execution_count": 202,
   "id": "19e8b1e6",
   "metadata": {},
   "outputs": [],
   "source": [
    "from sklearn.preprocessing import PowerTransformer\n",
    "scaler = PowerTransformer(method='yeo-johnson')\n",
    "df[skew] = scaler.fit_transform(df[skew].values)"
   ]
  },
  {
   "cell_type": "code",
   "execution_count": 185,
   "id": "3dee17ac",
   "metadata": {},
   "outputs": [],
   "source": [
    "#df['shoes_price']=np.sqrt(df['shoes_price'])"
   ]
  },
  {
   "cell_type": "code",
   "execution_count": 186,
   "id": "0b9e338e",
   "metadata": {},
   "outputs": [],
   "source": [
    "#df['shoes_price']=np.cbrt(df['shoes_price'])"
   ]
  },
  {
   "cell_type": "code",
   "execution_count": 187,
   "id": "cffe71c3",
   "metadata": {},
   "outputs": [],
   "source": [
    "#df['Ratings']=np.cbrt(df['Ratings'])"
   ]
  },
  {
   "cell_type": "code",
   "execution_count": 188,
   "id": "fd331d67",
   "metadata": {},
   "outputs": [],
   "source": [
    "#df['Ratings']=np.sqrt(df['Ratings'])"
   ]
  },
  {
   "cell_type": "code",
   "execution_count": 163,
   "id": "a7653f5a",
   "metadata": {},
   "outputs": [
    {
     "data": {
      "text/plain": [
       "shoes_price    6.002277\n",
       "Quantity       0.000000\n",
       "Ratings        2.410439\n",
       "Reviews        0.196566\n",
       "Counts        -0.151384\n",
       "dtype: float64"
      ]
     },
     "execution_count": 163,
     "metadata": {},
     "output_type": "execute_result"
    }
   ],
   "source": [
    "df.skew()#with powertransformer"
   ]
  },
  {
   "cell_type": "markdown",
   "id": "513c754b",
   "metadata": {},
   "source": [
    "We can notice that skewness has reduced completely."
   ]
  },
  {
   "cell_type": "code",
   "execution_count": 28,
   "id": "fb71779c",
   "metadata": {},
   "outputs": [
    {
     "data": {
      "image/png": "[encoded data removed]",
      "text/plain": [
       "<Figure size 2000x2500 with 5 Axes>"
      ]
     },
     "metadata": {},
     "output_type": "display_data"
    }
   ],
   "source": [
    "plt.figure (figsize=(20, 25), facecolor='green') #despite the fact that distplot will be depricated, am trying out this. \n",
    "plotnumber=1\n",
    "for column in numerical_col:\n",
    "    if plotnumber<=18:\n",
    "        ax=plt.subplot(6,4, plotnumber)\n",
    "        sns.distplot(df[column], color='b')\n",
    "        plt.xlabel(column, fontsize=20)\n",
    "    plotnumber+=1\n",
    "plt.show()"
   ]
  },
  {
   "cell_type": "markdown",
   "id": "ae6846d4",
   "metadata": {},
   "source": [
    "Since the Quantity variable has just one value which is '1 pair', am going to delete this row as it does not yield to the data\n",
    "and df.corr() method is giving NaN values for this variable."
   ]
  },
  {
   "cell_type": "code",
   "execution_count": 203,
   "id": "c042c3d3",
   "metadata": {},
   "outputs": [],
   "source": [
    "df.drop(['Quantity'], axis=1, inplace=True)"
   ]
  },
  {
   "cell_type": "markdown",
   "id": "3743d666",
   "metadata": {},
   "source": [
    "# CALCULATING CORRELATION COEFFICIENT\n"
   ]
  },
  {
   "cell_type": "code",
   "execution_count": 191,
   "id": "cd43f5a3",
   "metadata": {},
   "outputs": [
    {
     "data": {
      "text/html": [
       "<div>\n",
       "<style scoped>\n",
       "    .dataframe tbody tr th:only-of-type {\n",
       "        vertical-align: middle;\n",
       "    }\n",
       "\n",
       "    .dataframe tbody tr th {\n",
       "        vertical-align: top;\n",
       "    }\n",
       "\n",
       "    .dataframe thead th {\n",
       "        text-align: right;\n",
       "    }\n",
       "</style>\n",
       "<table border=\"1\" class=\"dataframe\">\n",
       "  <thead>\n",
       "    <tr style=\"text-align: right;\">\n",
       "      <th></th>\n",
       "      <th>shoes_price</th>\n",
       "      <th>Ratings</th>\n",
       "      <th>Reviews</th>\n",
       "      <th>Counts</th>\n",
       "    </tr>\n",
       "  </thead>\n",
       "  <tbody>\n",
       "    <tr>\n",
       "      <th>shoes_price</th>\n",
       "      <td>1.000000</td>\n",
       "      <td>-0.048409</td>\n",
       "      <td>-0.361022</td>\n",
       "      <td>-0.335552</td>\n",
       "    </tr>\n",
       "    <tr>\n",
       "      <th>Ratings</th>\n",
       "      <td>-0.048409</td>\n",
       "      <td>1.000000</td>\n",
       "      <td>-0.237239</td>\n",
       "      <td>0.043843</td>\n",
       "    </tr>\n",
       "    <tr>\n",
       "      <th>Reviews</th>\n",
       "      <td>-0.361022</td>\n",
       "      <td>-0.237239</td>\n",
       "      <td>1.000000</td>\n",
       "      <td>0.280752</td>\n",
       "    </tr>\n",
       "    <tr>\n",
       "      <th>Counts</th>\n",
       "      <td>-0.335552</td>\n",
       "      <td>0.043843</td>\n",
       "      <td>0.280752</td>\n",
       "      <td>1.000000</td>\n",
       "    </tr>\n",
       "  </tbody>\n",
       "</table>\n",
       "</div>"
      ],
      "text/plain": [
       "             shoes_price   Ratings   Reviews    Counts\n",
       "shoes_price     1.000000 -0.048409 -0.361022 -0.335552\n",
       "Ratings        -0.048409  1.000000 -0.237239  0.043843\n",
       "Reviews        -0.361022 -0.237239  1.000000  0.280752\n",
       "Counts         -0.335552  0.043843  0.280752  1.000000"
      ]
     },
     "execution_count": 191,
     "metadata": {},
     "output_type": "execute_result"
    }
   ],
   "source": [
    "df.corr()"
   ]
  },
  {
   "cell_type": "code",
   "execution_count": 29,
   "id": "beda177d",
   "metadata": {},
   "outputs": [
    {
     "data": {
      "image/png": "[encoded data removed]",
      "text/plain": [
       "<Figure size 800x600 with 2 Axes>"
      ]
     },
     "metadata": {},
     "output_type": "display_data"
    }
   ],
   "source": [
    "corr_hmap=df.corr()\n",
    "plt.figure(figsize=(8, 6))\n",
    "sns.heatmap(corr_hmap, annot=True, fmt='0.2f', cmap='PiYG')\n",
    "plt.xlabel(\"Figure\", fontsize=15)\n",
    "plt.ylabel(\"Feature Names\", fontsize=15)\n",
    "plt.title(\"Descriptive Graph\", fontsize=20)\n",
    "plt.show()"
   ]
  },
  {
   "cell_type": "markdown",
   "id": "48e4d35c",
   "metadata": {},
   "source": [
    "RESULTS:\n",
    "    1. The diagonals represent the correlation of variables between themselves and hence the value is 1 and strongly correlated\n",
    "    with themselves. Also the diagonal shows distribution of data.\n",
    "    2. Shoes_price is positively correlated with Ratings and negatively with Reviews and Counts.\n",
    "    3. Ratings is again positively correlated with Shoes_price and counts and negatively correlated with reviews.\n",
    "    4. Reviews is positively correlated with just Counts and negatively with Ratings and shoes_price.\n",
    "    5. Lastly, Counts is again reflective of above findings indicating positive relationship with Ratings and Reviews and negatively correlated with shoes_price"
   ]
  },
  {
   "cell_type": "markdown",
   "id": "26b73bd7",
   "metadata": {},
   "source": [
    "There is no multicollinearity issue here as there no similar values for any variables. So we can proceed further without deleting\n",
    "any of the variables."
   ]
  },
  {
   "cell_type": "markdown",
   "id": "069e286a",
   "metadata": {},
   "source": [
    "# ENCODING THE CATEGORICAL DATA INTO NUMERICAL DATA"
   ]
  },
  {
   "cell_type": "code",
   "execution_count": 204,
   "id": "2ccdadf9",
   "metadata": {},
   "outputs": [
    {
     "data": {
      "text/html": [
       "<div>\n",
       "<style scoped>\n",
       "    .dataframe tbody tr th:only-of-type {\n",
       "        vertical-align: middle;\n",
       "    }\n",
       "\n",
       "    .dataframe tbody tr th {\n",
       "        vertical-align: top;\n",
       "    }\n",
       "\n",
       "    .dataframe thead th {\n",
       "        text-align: right;\n",
       "    }\n",
       "</style>\n",
       "<table border=\"1\" class=\"dataframe\">\n",
       "  <thead>\n",
       "    <tr style=\"text-align: right;\">\n",
       "      <th></th>\n",
       "      <th>Shoes_names</th>\n",
       "      <th>shoes_category</th>\n",
       "      <th>shoes_color</th>\n",
       "      <th>shoes_price</th>\n",
       "      <th>Color1</th>\n",
       "      <th>Color2</th>\n",
       "      <th>Color3</th>\n",
       "      <th>Ratings</th>\n",
       "      <th>Reviews</th>\n",
       "      <th>Counts</th>\n",
       "      <th>StyleCode</th>\n",
       "    </tr>\n",
       "  </thead>\n",
       "  <tbody>\n",
       "    <tr>\n",
       "      <th>0</th>\n",
       "      <td>8</td>\n",
       "      <td>110</td>\n",
       "      <td>2</td>\n",
       "      <td>0.582225</td>\n",
       "      <td>8</td>\n",
       "      <td>70</td>\n",
       "      <td>23</td>\n",
       "      <td>1.068590e-15</td>\n",
       "      <td>0.0</td>\n",
       "      <td>13.000000</td>\n",
       "      <td>164</td>\n",
       "    </tr>\n",
       "    <tr>\n",
       "      <th>3</th>\n",
       "      <td>232</td>\n",
       "      <td>37</td>\n",
       "      <td>12</td>\n",
       "      <td>0.649325</td>\n",
       "      <td>4</td>\n",
       "      <td>73</td>\n",
       "      <td>21</td>\n",
       "      <td>-1.804112e-16</td>\n",
       "      <td>0.0</td>\n",
       "      <td>13.000000</td>\n",
       "      <td>151</td>\n",
       "    </tr>\n",
       "    <tr>\n",
       "      <th>6</th>\n",
       "      <td>238</td>\n",
       "      <td>110</td>\n",
       "      <td>0</td>\n",
       "      <td>0.481878</td>\n",
       "      <td>10</td>\n",
       "      <td>51</td>\n",
       "      <td>27</td>\n",
       "      <td>-1.804112e-16</td>\n",
       "      <td>1.0</td>\n",
       "      <td>13.000000</td>\n",
       "      <td>153</td>\n",
       "    </tr>\n",
       "    <tr>\n",
       "      <th>10</th>\n",
       "      <td>231</td>\n",
       "      <td>110</td>\n",
       "      <td>2</td>\n",
       "      <td>0.539898</td>\n",
       "      <td>20</td>\n",
       "      <td>82</td>\n",
       "      <td>39</td>\n",
       "      <td>-1.804112e-16</td>\n",
       "      <td>1316.0</td>\n",
       "      <td>10.000000</td>\n",
       "      <td>105</td>\n",
       "    </tr>\n",
       "    <tr>\n",
       "      <th>14</th>\n",
       "      <td>256</td>\n",
       "      <td>32</td>\n",
       "      <td>5</td>\n",
       "      <td>0.502525</td>\n",
       "      <td>20</td>\n",
       "      <td>76</td>\n",
       "      <td>29</td>\n",
       "      <td>-1.804112e-16</td>\n",
       "      <td>4.0</td>\n",
       "      <td>8.540476</td>\n",
       "      <td>148</td>\n",
       "    </tr>\n",
       "  </tbody>\n",
       "</table>\n",
       "</div>"
      ],
      "text/plain": [
       "    Shoes_names  shoes_category  shoes_color  shoes_price  Color1  Color2  \\\n",
       "0             8             110            2     0.582225       8      70   \n",
       "3           232              37           12     0.649325       4      73   \n",
       "6           238             110            0     0.481878      10      51   \n",
       "10          231             110            2     0.539898      20      82   \n",
       "14          256              32            5     0.502525      20      76   \n",
       "\n",
       "    Color3       Ratings  Reviews     Counts  StyleCode  \n",
       "0       23  1.068590e-15      0.0  13.000000        164  \n",
       "3       21 -1.804112e-16      0.0  13.000000        151  \n",
       "6       27 -1.804112e-16      1.0  13.000000        153  \n",
       "10      39 -1.804112e-16   1316.0  10.000000        105  \n",
       "14      29 -1.804112e-16      4.0   8.540476        148  "
      ]
     },
     "execution_count": 204,
     "metadata": {},
     "output_type": "execute_result"
    }
   ],
   "source": [
    "from sklearn.preprocessing import LabelEncoder\n",
    "le = LabelEncoder()\n",
    "for i in categorical_col:\n",
    "    df[i] = le.fit_transform(df[i])\n",
    "df.head()"
   ]
  },
  {
   "cell_type": "markdown",
   "id": "38af1e56",
   "metadata": {},
   "source": [
    "# Dividing x data and target label for further calculations"
   ]
  },
  {
   "cell_type": "code",
   "execution_count": 205,
   "id": "3421a4d1",
   "metadata": {},
   "outputs": [
    {
     "data": {
      "text/html": [
       "<div>\n",
       "<style scoped>\n",
       "    .dataframe tbody tr th:only-of-type {\n",
       "        vertical-align: middle;\n",
       "    }\n",
       "\n",
       "    .dataframe tbody tr th {\n",
       "        vertical-align: top;\n",
       "    }\n",
       "\n",
       "    .dataframe thead th {\n",
       "        text-align: right;\n",
       "    }\n",
       "</style>\n",
       "<table border=\"1\" class=\"dataframe\">\n",
       "  <thead>\n",
       "    <tr style=\"text-align: right;\">\n",
       "      <th></th>\n",
       "      <th>Shoes_names</th>\n",
       "      <th>shoes_category</th>\n",
       "      <th>shoes_color</th>\n",
       "      <th>Color1</th>\n",
       "      <th>Color2</th>\n",
       "      <th>Color3</th>\n",
       "      <th>Ratings</th>\n",
       "      <th>Reviews</th>\n",
       "      <th>Counts</th>\n",
       "      <th>StyleCode</th>\n",
       "    </tr>\n",
       "  </thead>\n",
       "  <tbody>\n",
       "    <tr>\n",
       "      <th>0</th>\n",
       "      <td>8</td>\n",
       "      <td>110</td>\n",
       "      <td>2</td>\n",
       "      <td>8</td>\n",
       "      <td>70</td>\n",
       "      <td>23</td>\n",
       "      <td>1.068590e-15</td>\n",
       "      <td>0.000000</td>\n",
       "      <td>13.000000</td>\n",
       "      <td>164</td>\n",
       "    </tr>\n",
       "    <tr>\n",
       "      <th>3</th>\n",
       "      <td>232</td>\n",
       "      <td>37</td>\n",
       "      <td>12</td>\n",
       "      <td>4</td>\n",
       "      <td>73</td>\n",
       "      <td>21</td>\n",
       "      <td>-1.804112e-16</td>\n",
       "      <td>0.000000</td>\n",
       "      <td>13.000000</td>\n",
       "      <td>151</td>\n",
       "    </tr>\n",
       "    <tr>\n",
       "      <th>6</th>\n",
       "      <td>238</td>\n",
       "      <td>110</td>\n",
       "      <td>0</td>\n",
       "      <td>10</td>\n",
       "      <td>51</td>\n",
       "      <td>27</td>\n",
       "      <td>-1.804112e-16</td>\n",
       "      <td>1.000000</td>\n",
       "      <td>13.000000</td>\n",
       "      <td>153</td>\n",
       "    </tr>\n",
       "    <tr>\n",
       "      <th>10</th>\n",
       "      <td>231</td>\n",
       "      <td>110</td>\n",
       "      <td>2</td>\n",
       "      <td>20</td>\n",
       "      <td>82</td>\n",
       "      <td>39</td>\n",
       "      <td>-1.804112e-16</td>\n",
       "      <td>1316.000000</td>\n",
       "      <td>10.000000</td>\n",
       "      <td>105</td>\n",
       "    </tr>\n",
       "    <tr>\n",
       "      <th>14</th>\n",
       "      <td>256</td>\n",
       "      <td>32</td>\n",
       "      <td>5</td>\n",
       "      <td>20</td>\n",
       "      <td>76</td>\n",
       "      <td>29</td>\n",
       "      <td>-1.804112e-16</td>\n",
       "      <td>4.000000</td>\n",
       "      <td>8.540476</td>\n",
       "      <td>148</td>\n",
       "    </tr>\n",
       "    <tr>\n",
       "      <th>...</th>\n",
       "      <td>...</td>\n",
       "      <td>...</td>\n",
       "      <td>...</td>\n",
       "      <td>...</td>\n",
       "      <td>...</td>\n",
       "      <td>...</td>\n",
       "      <td>...</td>\n",
       "      <td>...</td>\n",
       "      <td>...</td>\n",
       "      <td>...</td>\n",
       "    </tr>\n",
       "    <tr>\n",
       "      <th>510</th>\n",
       "      <td>18</td>\n",
       "      <td>118</td>\n",
       "      <td>20</td>\n",
       "      <td>0</td>\n",
       "      <td>68</td>\n",
       "      <td>39</td>\n",
       "      <td>-1.804112e-16</td>\n",
       "      <td>361.561224</td>\n",
       "      <td>8.540476</td>\n",
       "      <td>181</td>\n",
       "    </tr>\n",
       "    <tr>\n",
       "      <th>511</th>\n",
       "      <td>395</td>\n",
       "      <td>118</td>\n",
       "      <td>20</td>\n",
       "      <td>24</td>\n",
       "      <td>68</td>\n",
       "      <td>39</td>\n",
       "      <td>-1.804112e-16</td>\n",
       "      <td>361.561224</td>\n",
       "      <td>9.000000</td>\n",
       "      <td>181</td>\n",
       "    </tr>\n",
       "    <tr>\n",
       "      <th>512</th>\n",
       "      <td>381</td>\n",
       "      <td>118</td>\n",
       "      <td>20</td>\n",
       "      <td>90</td>\n",
       "      <td>68</td>\n",
       "      <td>39</td>\n",
       "      <td>-1.804112e-16</td>\n",
       "      <td>361.561224</td>\n",
       "      <td>13.000000</td>\n",
       "      <td>181</td>\n",
       "    </tr>\n",
       "    <tr>\n",
       "      <th>513</th>\n",
       "      <td>31</td>\n",
       "      <td>118</td>\n",
       "      <td>20</td>\n",
       "      <td>47</td>\n",
       "      <td>68</td>\n",
       "      <td>39</td>\n",
       "      <td>-1.804112e-16</td>\n",
       "      <td>361.561224</td>\n",
       "      <td>9.000000</td>\n",
       "      <td>181</td>\n",
       "    </tr>\n",
       "    <tr>\n",
       "      <th>514</th>\n",
       "      <td>16</td>\n",
       "      <td>118</td>\n",
       "      <td>20</td>\n",
       "      <td>24</td>\n",
       "      <td>68</td>\n",
       "      <td>39</td>\n",
       "      <td>-1.804112e-16</td>\n",
       "      <td>361.561224</td>\n",
       "      <td>10.000000</td>\n",
       "      <td>181</td>\n",
       "    </tr>\n",
       "  </tbody>\n",
       "</table>\n",
       "<p>472 rows × 10 columns</p>\n",
       "</div>"
      ],
      "text/plain": [
       "     Shoes_names  shoes_category  shoes_color  Color1  Color2  Color3  \\\n",
       "0              8             110            2       8      70      23   \n",
       "3            232              37           12       4      73      21   \n",
       "6            238             110            0      10      51      27   \n",
       "10           231             110            2      20      82      39   \n",
       "14           256              32            5      20      76      29   \n",
       "..           ...             ...          ...     ...     ...     ...   \n",
       "510           18             118           20       0      68      39   \n",
       "511          395             118           20      24      68      39   \n",
       "512          381             118           20      90      68      39   \n",
       "513           31             118           20      47      68      39   \n",
       "514           16             118           20      24      68      39   \n",
       "\n",
       "          Ratings      Reviews     Counts  StyleCode  \n",
       "0    1.068590e-15     0.000000  13.000000        164  \n",
       "3   -1.804112e-16     0.000000  13.000000        151  \n",
       "6   -1.804112e-16     1.000000  13.000000        153  \n",
       "10  -1.804112e-16  1316.000000  10.000000        105  \n",
       "14  -1.804112e-16     4.000000   8.540476        148  \n",
       "..            ...          ...        ...        ...  \n",
       "510 -1.804112e-16   361.561224   8.540476        181  \n",
       "511 -1.804112e-16   361.561224   9.000000        181  \n",
       "512 -1.804112e-16   361.561224  13.000000        181  \n",
       "513 -1.804112e-16   361.561224   9.000000        181  \n",
       "514 -1.804112e-16   361.561224  10.000000        181  \n",
       "\n",
       "[472 rows x 10 columns]"
      ]
     },
     "execution_count": 205,
     "metadata": {},
     "output_type": "execute_result"
    }
   ],
   "source": [
    "x=df.drop(['shoes_price'], axis=1)\n",
    "x"
   ]
  },
  {
   "cell_type": "code",
   "execution_count": 206,
   "id": "783c3d30",
   "metadata": {},
   "outputs": [
    {
     "data": {
      "text/plain": [
       "0      0.582225\n",
       "3      0.649325\n",
       "6      0.481878\n",
       "10     0.539898\n",
       "14     0.502525\n",
       "         ...   \n",
       "510    0.265923\n",
       "511    0.335903\n",
       "512   -0.138763\n",
       "513   -0.545765\n",
       "514   -0.038377\n",
       "Name: shoes_price, Length: 472, dtype: float64"
      ]
     },
     "execution_count": 206,
     "metadata": {},
     "output_type": "execute_result"
    }
   ],
   "source": [
    "y=df['shoes_price']\n",
    "y"
   ]
  },
  {
   "cell_type": "markdown",
   "id": "3b59f747",
   "metadata": {},
   "source": [
    "# Scaling Techniques need to be applied with the help of StandardScaler"
   ]
  },
  {
   "cell_type": "code",
   "execution_count": 207,
   "id": "15b2b630",
   "metadata": {},
   "outputs": [
    {
     "data": {
      "text/html": [
       "<div>\n",
       "<style scoped>\n",
       "    .dataframe tbody tr th:only-of-type {\n",
       "        vertical-align: middle;\n",
       "    }\n",
       "\n",
       "    .dataframe tbody tr th {\n",
       "        vertical-align: top;\n",
       "    }\n",
       "\n",
       "    .dataframe thead th {\n",
       "        text-align: right;\n",
       "    }\n",
       "</style>\n",
       "<table border=\"1\" class=\"dataframe\">\n",
       "  <thead>\n",
       "    <tr style=\"text-align: right;\">\n",
       "      <th></th>\n",
       "      <th>0</th>\n",
       "      <th>1</th>\n",
       "      <th>2</th>\n",
       "      <th>3</th>\n",
       "      <th>4</th>\n",
       "      <th>5</th>\n",
       "      <th>6</th>\n",
       "      <th>7</th>\n",
       "      <th>8</th>\n",
       "      <th>9</th>\n",
       "    </tr>\n",
       "  </thead>\n",
       "  <tbody>\n",
       "    <tr>\n",
       "      <th>0</th>\n",
       "      <td>-1.654695</td>\n",
       "      <td>1.120679</td>\n",
       "      <td>-1.348464</td>\n",
       "      <td>-0.881693</td>\n",
       "      <td>0.512149</td>\n",
       "      <td>-1.681731</td>\n",
       "      <td>2.41444</td>\n",
       "      <td>-1.627047</td>\n",
       "      <td>1.057433</td>\n",
       "      <td>0.270043</td>\n",
       "    </tr>\n",
       "    <tr>\n",
       "      <th>1</th>\n",
       "      <td>0.277446</td>\n",
       "      <td>-0.607254</td>\n",
       "      <td>-0.281269</td>\n",
       "      <td>-0.954239</td>\n",
       "      <td>0.671639</td>\n",
       "      <td>-1.926046</td>\n",
       "      <td>-0.41378</td>\n",
       "      <td>-1.627047</td>\n",
       "      <td>1.057433</td>\n",
       "      <td>0.043617</td>\n",
       "    </tr>\n",
       "    <tr>\n",
       "      <th>2</th>\n",
       "      <td>0.329199</td>\n",
       "      <td>1.120679</td>\n",
       "      <td>-1.561903</td>\n",
       "      <td>-0.845421</td>\n",
       "      <td>-0.497957</td>\n",
       "      <td>-1.193103</td>\n",
       "      <td>-0.41378</td>\n",
       "      <td>-1.621162</td>\n",
       "      <td>1.057433</td>\n",
       "      <td>0.078452</td>\n",
       "    </tr>\n",
       "    <tr>\n",
       "      <th>3</th>\n",
       "      <td>0.268820</td>\n",
       "      <td>1.120679</td>\n",
       "      <td>-1.348464</td>\n",
       "      <td>-0.664056</td>\n",
       "      <td>1.150111</td>\n",
       "      <td>0.272783</td>\n",
       "      <td>-0.41378</td>\n",
       "      <td>6.118541</td>\n",
       "      <td>0.372609</td>\n",
       "      <td>-0.757580</td>\n",
       "    </tr>\n",
       "    <tr>\n",
       "      <th>4</th>\n",
       "      <td>0.484461</td>\n",
       "      <td>-0.725605</td>\n",
       "      <td>-1.028306</td>\n",
       "      <td>-0.664056</td>\n",
       "      <td>0.831130</td>\n",
       "      <td>-0.948788</td>\n",
       "      <td>-0.41378</td>\n",
       "      <td>-1.603504</td>\n",
       "      <td>0.039437</td>\n",
       "      <td>-0.008635</td>\n",
       "    </tr>\n",
       "    <tr>\n",
       "      <th>...</th>\n",
       "      <td>...</td>\n",
       "      <td>...</td>\n",
       "      <td>...</td>\n",
       "      <td>...</td>\n",
       "      <td>...</td>\n",
       "      <td>...</td>\n",
       "      <td>...</td>\n",
       "      <td>...</td>\n",
       "      <td>...</td>\n",
       "      <td>...</td>\n",
       "    </tr>\n",
       "    <tr>\n",
       "      <th>467</th>\n",
       "      <td>-1.568439</td>\n",
       "      <td>1.310041</td>\n",
       "      <td>0.572487</td>\n",
       "      <td>-1.026785</td>\n",
       "      <td>0.405822</td>\n",
       "      <td>0.272783</td>\n",
       "      <td>-0.41378</td>\n",
       "      <td>0.500996</td>\n",
       "      <td>0.039437</td>\n",
       "      <td>0.566137</td>\n",
       "    </tr>\n",
       "    <tr>\n",
       "      <th>468</th>\n",
       "      <td>1.683423</td>\n",
       "      <td>1.310041</td>\n",
       "      <td>0.572487</td>\n",
       "      <td>-0.591510</td>\n",
       "      <td>0.405822</td>\n",
       "      <td>0.272783</td>\n",
       "      <td>-0.41378</td>\n",
       "      <td>0.500996</td>\n",
       "      <td>0.144334</td>\n",
       "      <td>0.566137</td>\n",
       "    </tr>\n",
       "    <tr>\n",
       "      <th>469</th>\n",
       "      <td>1.562664</td>\n",
       "      <td>1.310041</td>\n",
       "      <td>0.572487</td>\n",
       "      <td>0.605497</td>\n",
       "      <td>0.405822</td>\n",
       "      <td>0.272783</td>\n",
       "      <td>-0.41378</td>\n",
       "      <td>0.500996</td>\n",
       "      <td>1.057433</td>\n",
       "      <td>0.566137</td>\n",
       "    </tr>\n",
       "    <tr>\n",
       "      <th>470</th>\n",
       "      <td>-1.456306</td>\n",
       "      <td>1.310041</td>\n",
       "      <td>0.572487</td>\n",
       "      <td>-0.174371</td>\n",
       "      <td>0.405822</td>\n",
       "      <td>0.272783</td>\n",
       "      <td>-0.41378</td>\n",
       "      <td>0.500996</td>\n",
       "      <td>0.144334</td>\n",
       "      <td>0.566137</td>\n",
       "    </tr>\n",
       "    <tr>\n",
       "      <th>471</th>\n",
       "      <td>-1.585690</td>\n",
       "      <td>1.310041</td>\n",
       "      <td>0.572487</td>\n",
       "      <td>-0.591510</td>\n",
       "      <td>0.405822</td>\n",
       "      <td>0.272783</td>\n",
       "      <td>-0.41378</td>\n",
       "      <td>0.500996</td>\n",
       "      <td>0.372609</td>\n",
       "      <td>0.566137</td>\n",
       "    </tr>\n",
       "  </tbody>\n",
       "</table>\n",
       "<p>472 rows × 10 columns</p>\n",
       "</div>"
      ],
      "text/plain": [
       "            0         1         2         3         4         5        6  \\\n",
       "0   -1.654695  1.120679 -1.348464 -0.881693  0.512149 -1.681731  2.41444   \n",
       "1    0.277446 -0.607254 -0.281269 -0.954239  0.671639 -1.926046 -0.41378   \n",
       "2    0.329199  1.120679 -1.561903 -0.845421 -0.497957 -1.193103 -0.41378   \n",
       "3    0.268820  1.120679 -1.348464 -0.664056  1.150111  0.272783 -0.41378   \n",
       "4    0.484461 -0.725605 -1.028306 -0.664056  0.831130 -0.948788 -0.41378   \n",
       "..        ...       ...       ...       ...       ...       ...      ...   \n",
       "467 -1.568439  1.310041  0.572487 -1.026785  0.405822  0.272783 -0.41378   \n",
       "468  1.683423  1.310041  0.572487 -0.591510  0.405822  0.272783 -0.41378   \n",
       "469  1.562664  1.310041  0.572487  0.605497  0.405822  0.272783 -0.41378   \n",
       "470 -1.456306  1.310041  0.572487 -0.174371  0.405822  0.272783 -0.41378   \n",
       "471 -1.585690  1.310041  0.572487 -0.591510  0.405822  0.272783 -0.41378   \n",
       "\n",
       "            7         8         9  \n",
       "0   -1.627047  1.057433  0.270043  \n",
       "1   -1.627047  1.057433  0.043617  \n",
       "2   -1.621162  1.057433  0.078452  \n",
       "3    6.118541  0.372609 -0.757580  \n",
       "4   -1.603504  0.039437 -0.008635  \n",
       "..        ...       ...       ...  \n",
       "467  0.500996  0.039437  0.566137  \n",
       "468  0.500996  0.144334  0.566137  \n",
       "469  0.500996  1.057433  0.566137  \n",
       "470  0.500996  0.144334  0.566137  \n",
       "471  0.500996  0.372609  0.566137  \n",
       "\n",
       "[472 rows x 10 columns]"
      ]
     },
     "execution_count": 207,
     "metadata": {},
     "output_type": "execute_result"
    }
   ],
   "source": [
    "from sklearn.preprocessing import StandardScaler \n",
    "st=StandardScaler() #scaling applied and we can see the uniformity in the values\n",
    "x=pd.DataFrame(st.fit_transform(x))\n",
    "x"
   ]
  },
  {
   "cell_type": "markdown",
   "id": "14554754",
   "metadata": {},
   "source": [
    "# VARIATION INFLATION FACTOR"
   ]
  },
  {
   "cell_type": "code",
   "execution_count": 208,
   "id": "c1c91e2e",
   "metadata": {},
   "outputs": [
    {
     "data": {
      "text/html": [
       "<div>\n",
       "<style scoped>\n",
       "    .dataframe tbody tr th:only-of-type {\n",
       "        vertical-align: middle;\n",
       "    }\n",
       "\n",
       "    .dataframe tbody tr th {\n",
       "        vertical-align: top;\n",
       "    }\n",
       "\n",
       "    .dataframe thead th {\n",
       "        text-align: right;\n",
       "    }\n",
       "</style>\n",
       "<table border=\"1\" class=\"dataframe\">\n",
       "  <thead>\n",
       "    <tr style=\"text-align: right;\">\n",
       "      <th></th>\n",
       "      <th>VIF values</th>\n",
       "      <th>features</th>\n",
       "    </tr>\n",
       "  </thead>\n",
       "  <tbody>\n",
       "    <tr>\n",
       "      <th>0</th>\n",
       "      <td>1.155128</td>\n",
       "      <td>0</td>\n",
       "    </tr>\n",
       "    <tr>\n",
       "      <th>1</th>\n",
       "      <td>1.031137</td>\n",
       "      <td>1</td>\n",
       "    </tr>\n",
       "    <tr>\n",
       "      <th>2</th>\n",
       "      <td>3.504763</td>\n",
       "      <td>2</td>\n",
       "    </tr>\n",
       "    <tr>\n",
       "      <th>3</th>\n",
       "      <td>2.668475</td>\n",
       "      <td>3</td>\n",
       "    </tr>\n",
       "    <tr>\n",
       "      <th>4</th>\n",
       "      <td>1.923482</td>\n",
       "      <td>4</td>\n",
       "    </tr>\n",
       "    <tr>\n",
       "      <th>5</th>\n",
       "      <td>1.852339</td>\n",
       "      <td>5</td>\n",
       "    </tr>\n",
       "    <tr>\n",
       "      <th>6</th>\n",
       "      <td>1.884246</td>\n",
       "      <td>6</td>\n",
       "    </tr>\n",
       "    <tr>\n",
       "      <th>7</th>\n",
       "      <td>1.432595</td>\n",
       "      <td>7</td>\n",
       "    </tr>\n",
       "    <tr>\n",
       "      <th>8</th>\n",
       "      <td>1.699610</td>\n",
       "      <td>8</td>\n",
       "    </tr>\n",
       "    <tr>\n",
       "      <th>9</th>\n",
       "      <td>4.337895</td>\n",
       "      <td>9</td>\n",
       "    </tr>\n",
       "  </tbody>\n",
       "</table>\n",
       "</div>"
      ],
      "text/plain": [
       "   VIF values  features\n",
       "0    1.155128         0\n",
       "1    1.031137         1\n",
       "2    3.504763         2\n",
       "3    2.668475         3\n",
       "4    1.923482         4\n",
       "5    1.852339         5\n",
       "6    1.884246         6\n",
       "7    1.432595         7\n",
       "8    1.699610         8\n",
       "9    4.337895         9"
      ]
     },
     "execution_count": 208,
     "metadata": {},
     "output_type": "execute_result"
    }
   ],
   "source": [
    "from statsmodels.stats.outliers_influence import variance_inflation_factor\n",
    "VIF=pd.DataFrame()\n",
    "VIF[\"VIF values\"]=[variance_inflation_factor(x.values, i) for i in range (len(x.columns))]\n",
    "VIF[\"features\"]=x.columns\n",
    "VIF"
   ]
  },
  {
   "cell_type": "markdown",
   "id": "e8a42366",
   "metadata": {},
   "source": [
    "I tried VIF method after scaling the data and the VIF values for all columns is below the threshold value of 10. So am going\n",
    "to proceed with applying various regression algorithms for shoes price predictions."
   ]
  },
  {
   "cell_type": "markdown",
   "id": "dddde6c2",
   "metadata": {},
   "source": [
    "Graphical representation of target variable in correlation with other variables. Ratings, stylecode and shoes_color are\n",
    "positively related while others are negatively related."
   ]
  },
  {
   "cell_type": "code",
   "execution_count": 209,
   "id": "5703432e",
   "metadata": {},
   "outputs": [
    {
     "data": {
      "image/png": "[encoded data removed]",
      "text/plain": [
       "<Figure size 1800x600 with 1 Axes>"
      ]
     },
     "metadata": {},
     "output_type": "display_data"
    }
   ],
   "source": [
    "plt.figure(figsize = (18,6))\n",
    "df.corr()['shoes_price'].drop(['shoes_price']).sort_values(ascending=False).plot(kind='bar',color = 'purple')\n",
    "plt.xlabel('Features',fontsize=15)\n",
    "plt.ylabel('shoes_price',fontsize=15)\n",
    "plt.title('Correlation of features with Target Variable shoes_price',fontsize = 18)\n",
    "plt.show()"
   ]
  },
  {
   "cell_type": "markdown",
   "id": "3660fc37",
   "metadata": {},
   "source": [
    "# Shoes_price prediction using Regressors like linear regression, DTC, ETC, AdaBoosting, KNN etc."
   ]
  },
  {
   "cell_type": "markdown",
   "id": "d6c95a28",
   "metadata": {},
   "source": [
    "# Finding the best score on random_state value and fitting for training and testing data"
   ]
  },
  {
   "cell_type": "code",
   "execution_count": 212,
   "id": "4ce32075",
   "metadata": {},
   "outputs": [],
   "source": [
    "from sklearn.linear_model import LinearRegression\n",
    "from sklearn.metrics import mean_squared_error, mean_absolute_error\n",
    "from sklearn.metrics import r2_score\n",
    "from sklearn.ensemble import RandomForestRegressor\n",
    "from sklearn.tree import DecisionTreeRegressor\n",
    "from sklearn.naive_bayes import GaussianNB\n",
    "from sklearn.neighbors import KNeighborsRegressor as KNN\n",
    "from sklearn.linear_model import Lasso, Ridge\n",
    "from sklearn.svm import SVR\n",
    "from sklearn.model_selection import GridSearchCV"
   ]
  },
  {
   "cell_type": "code",
   "execution_count": 211,
   "id": "8d3665f6",
   "metadata": {},
   "outputs": [
    {
     "name": "stdout",
     "output_type": "stream",
     "text": [
      "Maximum r2_score is: 0.30455615180365114 on Random_State 181\n"
     ]
    }
   ],
   "source": [
    "maxAcc=0\n",
    "maxRS=0\n",
    "for i in range(1, 200):\n",
    "    x_train,x_test,y_train,y_test=train_test_split(x, y, test_size=.30, random_state=i)\n",
    "    lr=LinearRegression()\n",
    "    lr.fit(x_train,y_train)\n",
    "    pred=lr.predict(x_test)\n",
    "    acc=r2_score(y_test, pred)\n",
    "    if acc>maxAcc:\n",
    "        maxAcc=acc\n",
    "        maxRS=i\n",
    "print(\"Maximum r2_score is:\", maxAcc, \"on Random_State\", maxRS)"
   ]
  },
  {
   "cell_type": "markdown",
   "id": "6264ce2e",
   "metadata": {},
   "source": [
    "# The maximum r2_score is 30% with random_state of 181. We can apply this random_state to all the models to learn."
   ]
  },
  {
   "cell_type": "markdown",
   "id": "971286ab",
   "metadata": {},
   "source": [
    "# Training and Testing phase for data"
   ]
  },
  {
   "cell_type": "code",
   "execution_count": 213,
   "id": "d0a641e9",
   "metadata": {},
   "outputs": [],
   "source": [
    "from sklearn.model_selection import train_test_split"
   ]
  },
  {
   "cell_type": "code",
   "execution_count": 214,
   "id": "3abdc301",
   "metadata": {},
   "outputs": [],
   "source": [
    "x_train, x_test, y_train, y_test=train_test_split(x, y, test_size=.30, random_state=maxRS)"
   ]
  },
  {
   "cell_type": "code",
   "execution_count": 215,
   "id": "9001e057",
   "metadata": {},
   "outputs": [
    {
     "data": {
      "text/plain": [
       "(330, 10)"
      ]
     },
     "execution_count": 215,
     "metadata": {},
     "output_type": "execute_result"
    }
   ],
   "source": [
    "x_train.shape"
   ]
  },
  {
   "cell_type": "code",
   "execution_count": 216,
   "id": "654303a1",
   "metadata": {},
   "outputs": [
    {
     "data": {
      "text/plain": [
       "(142, 10)"
      ]
     },
     "execution_count": 216,
     "metadata": {},
     "output_type": "execute_result"
    }
   ],
   "source": [
    "x_test.shape"
   ]
  },
  {
   "cell_type": "code",
   "execution_count": 217,
   "id": "45332d39",
   "metadata": {},
   "outputs": [
    {
     "data": {
      "text/plain": [
       "(330,)"
      ]
     },
     "execution_count": 217,
     "metadata": {},
     "output_type": "execute_result"
    }
   ],
   "source": [
    "y_train.shape"
   ]
  },
  {
   "cell_type": "code",
   "execution_count": 218,
   "id": "0faddea8",
   "metadata": {},
   "outputs": [
    {
     "data": {
      "text/plain": [
       "(142,)"
      ]
     },
     "execution_count": 218,
     "metadata": {},
     "output_type": "execute_result"
    }
   ],
   "source": [
    "y_test.shape"
   ]
  },
  {
   "cell_type": "markdown",
   "id": "bdaf4b27",
   "metadata": {},
   "source": [
    "# Fitting the data to different types of regressors to predict the r2 score"
   ]
  },
  {
   "cell_type": "code",
   "execution_count": 219,
   "id": "30996400",
   "metadata": {},
   "outputs": [
    {
     "name": "stdout",
     "output_type": "stream",
     "text": [
      "R2_Score:  0.30455615180365114\n",
      "R2_score on training data: 16.789893167009517\n",
      "Error:\n",
      "Mean squared error: 0.8336019081560545\n",
      "Mean_absolute_error 0.6278164149200086\n",
      "Root_mean_Squared_error: 0.9130180218134002\n"
     ]
    }
   ],
   "source": [
    "lr=LinearRegression()\n",
    "lr.fit(x_train, y_train)\n",
    "pred_lr=lr.predict(x_test)\n",
    "print(\"R2_Score: \", r2_score(y_test, pred_lr))\n",
    "pred_train=lr.predict(x_train)\n",
    "print('R2_score on training data:', r2_score(y_train, pred_train)*100)\n",
    "print(\"Error:\")\n",
    "print(\"Mean squared error:\", mean_squared_error(y_test, pred_lr))\n",
    "print(\"Mean_absolute_error\", mean_absolute_error(y_test, pred_lr))\n",
    "print(\"Root_mean_Squared_error:\", np.sqrt(mean_squared_error(y_test, pred_lr)))\n",
    "      "
   ]
  },
  {
   "cell_type": "code",
   "execution_count": 47,
   "id": "2bded52b",
   "metadata": {},
   "outputs": [
    {
     "name": "stdout",
     "output_type": "stream",
     "text": [
      "R2_score 0.2396675244556219\n",
      "R2_score on training data: 86.2993960783675\n",
      "Mean squared error: 0.9113814207870619\n",
      "Mean_absolute_error 0.6905164099980434\n",
      "Root_mean_Squared_error: 0.954662988068073\n"
     ]
    }
   ],
   "source": [
    "rfr=RandomForestRegressor()\n",
    "rfr.fit(x_train, y_train)\n",
    "pred_rfr=rfr.predict(x_test) \n",
    "pred_train=rfr.predict(x_train)\n",
    "print('R2_score', r2_score(y_test, pred_rfr))\n",
    "print('R2_score on training data:', r2_score(y_train, pred_train)*100)\n",
    "print(\"Mean squared error:\", mean_squared_error(y_test, pred_rfr))\n",
    "print(\"Mean_absolute_error\", mean_absolute_error(y_test, pred_rfr))\n",
    "print(\"Root_mean_Squared_error:\", np.sqrt(mean_squared_error(y_test, pred_rfr)))"
   ]
  },
  {
   "cell_type": "code",
   "execution_count": 48,
   "id": "064c9fe8",
   "metadata": {},
   "outputs": [
    {
     "name": "stdout",
     "output_type": "stream",
     "text": [
      "R2_score 0.23190132018963083\n",
      "R2_score on training data: 27.860925227496825\n",
      "Mean squared error: 0.9206904724266012\n",
      "Mean_absolute_error 0.6378515768081294\n",
      "Root_mean_Squared_error: 0.9595261707877494\n"
     ]
    }
   ],
   "source": [
    "svc=SVR()\n",
    "svc.fit(x_train, y_train)\n",
    "pred_svc=svc.predict(x_test) \n",
    "pred_train=svc.predict(x_train)\n",
    "print('R2_score', r2_score(y_test, pred_svc))\n",
    "print('R2_score on training data:', r2_score(y_train, pred_train)*100)\n",
    "print(\"Mean squared error:\", mean_squared_error(y_test, pred_svc))\n",
    "print(\"Mean_absolute_error\", mean_absolute_error(y_test, pred_svc))\n",
    "print(\"Root_mean_Squared_error:\", np.sqrt(mean_squared_error(y_test, pred_svc)))\n",
    "      "
   ]
  },
  {
   "cell_type": "code",
   "execution_count": 49,
   "id": "2658532c",
   "metadata": {},
   "outputs": [
    {
     "name": "stdout",
     "output_type": "stream",
     "text": [
      "R2_score 0.23815155073474759\n",
      "R2_score on training data 38.42004983743723\n",
      "Mean squared error: 0.913198560430633\n",
      "Mean_absolute_error 0.7009783639059083\n",
      "Root_mean_Squared_error: 0.955614232015531\n"
     ]
    }
   ],
   "source": [
    "knn=KNN()\n",
    "knn.fit(x_train, y_train)\n",
    "pred_knn=knn.predict(x_test) \n",
    "pred_train=knn.predict(x_train)\n",
    "print('R2_score', r2_score(y_test, pred_knn))\n",
    "print('R2_score on training data', r2_score(y_train, pred_train)*100)\n",
    "print(\"Mean squared error:\", mean_squared_error(y_test, pred_knn))\n",
    "print(\"Mean_absolute_error\", mean_absolute_error(y_test, pred_knn))\n",
    "print(\"Root_mean_Squared_error:\", np.sqrt(mean_squared_error(y_test, pred_knn)))\n",
    "      "
   ]
  },
  {
   "cell_type": "code",
   "execution_count": 50,
   "id": "689e637e",
   "metadata": {},
   "outputs": [
    {
     "name": "stdout",
     "output_type": "stream",
     "text": [
      "R2_score -0.200301361257349\n",
      "R2_score on training data 100.0\n",
      "Mean squared error: 1.4387552750685024\n",
      "Mean_absolute_error 0.8264747251168605\n",
      "Root_mean_Squared_error: 1.1994812524873002\n"
     ]
    }
   ],
   "source": [
    "dtc=DecisionTreeRegressor()\n",
    "dtc.fit(x_train, y_train)\n",
    "pred_dtc=dtc.predict(x_test) \n",
    "pred_train=dtc.predict(x_train)\n",
    "print('R2_score', r2_score(y_test, pred_dtc))\n",
    "print('R2_score on training data', r2_score(y_train, pred_train)*100)\n",
    "print(\"Mean squared error:\", mean_squared_error(y_test, pred_dtc))\n",
    "print(\"Mean_absolute_error\", mean_absolute_error(y_test, pred_dtc))\n",
    "print(\"Root_mean_Squared_error:\", np.sqrt(mean_squared_error(y_test, pred_dtc)))\n",
    "      "
   ]
  },
  {
   "cell_type": "code",
   "execution_count": 51,
   "id": "7506da8f",
   "metadata": {},
   "outputs": [
    {
     "name": "stdout",
     "output_type": "stream",
     "text": [
      "R2_score -0.0021215373391894055\n",
      "R2_score on training data 0.0\n",
      "Mean squared error: 1.2012047096207426\n",
      "Mean_absolute_error 0.7519147518435546\n",
      "Root_mean_Squared_error: 1.0959948492674327\n"
     ]
    }
   ],
   "source": [
    "la=Lasso()\n",
    "la.fit(x_train, y_train)\n",
    "pred_la=la.predict(x_test) \n",
    "pred_train=la.predict(x_train)\n",
    "print('R2_score', r2_score(y_test, pred_la))\n",
    "print('R2_score on training data', r2_score(y_train, pred_train)*100)\n",
    "print(\"Mean squared error:\", mean_squared_error(y_test, pred_la))\n",
    "print(\"Mean_absolute_error\", mean_absolute_error(y_test, pred_la))\n",
    "print(\"Root_mean_Squared_error:\", np.sqrt(mean_squared_error(y_test, pred_la)))"
   ]
  },
  {
   "cell_type": "code",
   "execution_count": 52,
   "id": "d13794b7",
   "metadata": {},
   "outputs": [
    {
     "name": "stdout",
     "output_type": "stream",
     "text": [
      "R2_score 0.3042166995414818\n",
      "R2_score on training data 16.788978252018183\n",
      "Mean squared error: 0.8340087965830729\n",
      "Mean_absolute_error 0.6277693489618361\n",
      "Root_mean_Squared_error: 0.9132408206946692\n"
     ]
    }
   ],
   "source": [
    "rd=Ridge()\n",
    "rd.fit(x_train, y_train)\n",
    "pred_rd=rd.predict(x_test) \n",
    "pred_train=rd.predict(x_train)\n",
    "print('R2_score', r2_score(y_test, pred_rd))\n",
    "print('R2_score on training data', r2_score(y_train, pred_train)*100)\n",
    "print(\"Mean squared error:\", mean_squared_error(y_test, pred_rd))\n",
    "print(\"Mean_absolute_error\", mean_absolute_error(y_test, pred_rd))\n",
    "print(\"Root_mean_Squared_error:\", np.sqrt(mean_squared_error(y_test, pred_rd)))\n",
    "      "
   ]
  },
  {
   "cell_type": "markdown",
   "id": "35ca6994",
   "metadata": {},
   "source": [
    "# Linear Regression and Ridge both give 30% r2 score and respective errors. "
   ]
  },
  {
   "cell_type": "markdown",
   "id": "1be44b5b",
   "metadata": {},
   "source": [
    "# Cross-Validation_score()"
   ]
  },
  {
   "cell_type": "code",
   "execution_count": 53,
   "id": "c9779a3a",
   "metadata": {},
   "outputs": [],
   "source": [
    "from sklearn.model_selection import cross_val_score"
   ]
  },
  {
   "cell_type": "code",
   "execution_count": 54,
   "id": "54ba9d88",
   "metadata": {},
   "outputs": [
    {
     "name": "stdout",
     "output_type": "stream",
     "text": [
      "[-10.29035043  -1.03615735  -0.15933787  -0.18655759  -0.17539338]\n",
      "-2.369559322654233\n",
      "Difference between R2 Score and cross validation score is: 2.6741175696915476\n"
     ]
    }
   ],
   "source": [
    "score=cross_val_score(lr, x, y, cv=5, scoring='r2')\n",
    "print(score)\n",
    "print(score.mean())\n",
    "print(\"Difference between R2 Score and cross validation score is:\", r2_score(y_test, pred_lr)-score.mean())"
   ]
  },
  {
   "cell_type": "code",
   "execution_count": 55,
   "id": "13068c8f",
   "metadata": {},
   "outputs": [
    {
     "name": "stdout",
     "output_type": "stream",
     "text": [
      "[-10.29035043  -1.03615735  -0.15933787  -0.18655759  -0.17539338]\n",
      "-2.369559322654233\n",
      "Difference between R2 Score and cross validation score is: 2.6092268471098548\n"
     ]
    }
   ],
   "source": [
    "score2=cross_val_score(rfr, x, y, cv=5, scoring='r2')\n",
    "print(score)\n",
    "print(score.mean())\n",
    "print(\"Difference between R2 Score and cross validation score is:\", r2_score(y_test, pred_rfr)-score.mean())"
   ]
  },
  {
   "cell_type": "code",
   "execution_count": 56,
   "id": "5a412240",
   "metadata": {},
   "outputs": [
    {
     "name": "stdout",
     "output_type": "stream",
     "text": [
      "[-10.29035043  -1.03615735  -0.15933787  -0.18655759  -0.17539338]\n",
      "-2.369559322654233\n",
      "Difference between R2 Score and cross validation score is: 2.6077108733889807\n"
     ]
    }
   ],
   "source": [
    "score3=cross_val_score(knn, x, y, cv=5)\n",
    "print(score)\n",
    "print(score.mean())\n",
    "print(\"Difference between R2 Score and cross validation score is:\", r2_score(y_test, pred_knn)-score.mean())"
   ]
  },
  {
   "cell_type": "code",
   "execution_count": 57,
   "id": "3afe9abb",
   "metadata": {},
   "outputs": [
    {
     "name": "stdout",
     "output_type": "stream",
     "text": [
      "[-10.29035043  -1.03615735  -0.15933787  -0.18655759  -0.17539338]\n",
      "-2.369559322654233\n",
      "Difference between R2 Score and cross validation score is: 2.169257961396884\n"
     ]
    }
   ],
   "source": [
    "score4=cross_val_score(dtc, x, y, cv=5)\n",
    "print(score)\n",
    "print(score.mean())\n",
    "print(\"Difference between R2 Score and cross validation score is:\", r2_score(y_test, pred_dtc)-score.mean())"
   ]
  },
  {
   "cell_type": "code",
   "execution_count": 58,
   "id": "01d22813",
   "metadata": {},
   "outputs": [
    {
     "name": "stdout",
     "output_type": "stream",
     "text": [
      "[-10.29035043  -1.03615735  -0.15933787  -0.18655759  -0.17539338]\n",
      "-2.369559322654233\n",
      "Difference between R2 Score and cross validation score is: 2.3674377853150435\n"
     ]
    }
   ],
   "source": [
    "score5=cross_val_score(la, x, y, cv=5)\n",
    "print(score)\n",
    "print(score.mean())\n",
    "print(\"Difference between R2 Score and cross validation score is:\", r2_score(y_test, pred_la)-score.mean())"
   ]
  },
  {
   "cell_type": "code",
   "execution_count": 60,
   "id": "8beb8a3f",
   "metadata": {},
   "outputs": [
    {
     "name": "stdout",
     "output_type": "stream",
     "text": [
      "[-10.29035043  -1.03615735  -0.15933787  -0.18655759  -0.17539338]\n",
      "-2.369559322654233\n",
      "Difference between R2 Score and cross validation score is: 2.6737760221957148\n"
     ]
    }
   ],
   "source": [
    "score6=cross_val_score(rd, x, y, cv=5)\n",
    "print(score)\n",
    "print(score.mean())\n",
    "print(\"Difference between R2 Score and cross validation score is:\", r2_score(y_test, pred_rd)-score.mean())"
   ]
  },
  {
   "cell_type": "code",
   "execution_count": 61,
   "id": "db98b438",
   "metadata": {},
   "outputs": [
    {
     "name": "stdout",
     "output_type": "stream",
     "text": [
      "[-10.29035043  -1.03615735  -0.15933787  -0.18655759  -0.17539338]\n",
      "-2.369559322654233\n",
      "Difference between R2 Score and cross validation score is: 2.601460642843864\n"
     ]
    }
   ],
   "source": [
    "score7=cross_val_score(svc, x, y, cv=5)\n",
    "print(score)\n",
    "print(score.mean())\n",
    "print(\"Difference between R2 Score and cross validation score is:\", r2_score(y_test, pred_svc)-score.mean())"
   ]
  },
  {
   "cell_type": "markdown",
   "id": "a971bf80",
   "metadata": {},
   "source": [
    "I will go ahead with Linear Regression as all the values of r2 score are same and negative which means data is underfitting and\n",
    "there are errors to be eradicated."
   ]
  },
  {
   "cell_type": "markdown",
   "id": "9999383c",
   "metadata": {},
   "source": [
    "# GridsearchCV for maximization of the result"
   ]
  },
  {
   "cell_type": "code",
   "execution_count": 65,
   "id": "d33a0943",
   "metadata": {},
   "outputs": [],
   "source": [
    "from sklearn.model_selection import GridSearchCV\n",
    "#For LinearRegression()\n",
    "parameters={'fit_intercept':[True], 'copy_X':[True], 'n_jobs':[None], 'positive':[False]}"
   ]
  },
  {
   "cell_type": "code",
   "execution_count": 66,
   "id": "9fde5108",
   "metadata": {},
   "outputs": [
    {
     "data": {
      "text/plain": [
       "GridSearchCV(cv=5, estimator=LinearRegression(),\n",
       "             param_grid={'copy_X': [True], 'fit_intercept': [True],\n",
       "                         'n_jobs': [None], 'positive': [False]})"
      ]
     },
     "execution_count": 66,
     "metadata": {},
     "output_type": "execute_result"
    }
   ],
   "source": [
    "GCV=GridSearchCV(lr, parameters, cv=5)\n",
    "GCV.fit(x_train, y_train)"
   ]
  },
  {
   "cell_type": "code",
   "execution_count": 67,
   "id": "078572c9",
   "metadata": {},
   "outputs": [
    {
     "data": {
      "text/plain": [
       "{'copy_X': True, 'fit_intercept': True, 'n_jobs': None, 'positive': False}"
      ]
     },
     "execution_count": 67,
     "metadata": {},
     "output_type": "execute_result"
    }
   ],
   "source": [
    "GCV.best_params_"
   ]
  },
  {
   "cell_type": "markdown",
   "id": "8cbe7c87",
   "metadata": {},
   "source": [
    "# My new model"
   ]
  },
  {
   "cell_type": "code",
   "execution_count": 68,
   "id": "bcdc10f3",
   "metadata": {},
   "outputs": [
    {
     "name": "stdout",
     "output_type": "stream",
     "text": [
      "R2_score 0.3045582470373146\n",
      "R2_score on training data 16.788978252018183\n",
      "Mean squared error: 0.833599396679701\n",
      "Mean_absolute_error 0.6278159042944497\n",
      "Root_mean_Squared_error: 0.9130166464417289\n"
     ]
    }
   ],
   "source": [
    "Model=LinearRegression()\n",
    "Model.fit(x_train, y_train)\n",
    "pred=Model.predict(x_test)\n",
    "print('R2_score', r2_score(y_test, pred))\n",
    "print('R2_score on training data', r2_score(y_train, pred_train)*100)\n",
    "print(\"Mean squared error:\", mean_squared_error(y_test, pred))\n",
    "print(\"Mean_absolute_error\", mean_absolute_error(y_test, pred))\n",
    "print(\"Root_mean_Squared_error:\", np.sqrt(mean_squared_error(y_test, pred)))\n",
    "      "
   ]
  },
  {
   "cell_type": "markdown",
   "id": "8be1590e",
   "metadata": {},
   "source": [
    "# R2_score is 30% and R2_score on training data is just 16%, which is very less. The respectivemean_squared_error is 0.8, mean_absolute_error is 0.6, root_mean_squared_error is 0.9."
   ]
  },
  {
   "cell_type": "markdown",
   "id": "4d278192",
   "metadata": {},
   "source": [
    "# Saving the model using Joblib method\n"
   ]
  },
  {
   "cell_type": "code",
   "execution_count": 69,
   "id": "702e974d",
   "metadata": {},
   "outputs": [
    {
     "data": {
      "text/plain": [
       "['shoesprice.obj']"
      ]
     },
     "execution_count": 69,
     "metadata": {},
     "output_type": "execute_result"
    }
   ],
   "source": [
    "import joblib\n",
    "joblib.dump(lr, 'shoesprice.obj')"
   ]
  },
  {
   "cell_type": "code",
   "execution_count": 71,
   "id": "6ae26573",
   "metadata": {},
   "outputs": [],
   "source": [
    "import pickle\n",
    "filename='shoesprice.obj'\n",
    "pickle.dump(Model,open(filename, 'wb'))"
   ]
  },
  {
   "cell_type": "code",
   "execution_count": 72,
   "id": "8d4d3351",
   "metadata": {},
   "outputs": [
    {
     "name": "stdout",
     "output_type": "stream",
     "text": [
      "30.45582470373146\n"
     ]
    },
    {
     "data": {
      "text/plain": [
       "array([-1.80727473e-01,  4.04763186e-01, -3.78503883e-02, -1.55193169e-01,\n",
       "        5.78116039e-01, -9.93557289e-02, -2.11142742e-01, -4.75964580e-02,\n",
       "       -1.95716960e-02,  9.45905043e-01, -4.19236669e-01, -1.59404720e-01,\n",
       "        8.53080417e-01, -3.66567145e-01,  9.03613899e-01,  6.90235465e-01,\n",
       "       -1.44847431e-01,  5.35386944e-01, -3.19943094e-01, -3.27270062e-01,\n",
       "       -4.03664236e-01, -3.38927282e-01, -2.14612312e-01, -1.42606849e-01,\n",
       "       -7.40307713e-02, -1.42158712e-01, -1.62011135e-02,  7.00642575e-01,\n",
       "        4.37301521e-01,  4.43175527e-01, -7.94994249e-01, -2.42558997e-01,\n",
       "       -2.45634756e-01, -4.67961436e-01, -4.72121330e-01,  9.42240811e-01,\n",
       "       -3.18628942e-01, -3.30250788e-01, -2.15698104e-01, -1.03286690e-01,\n",
       "       -3.09929233e-01, -2.07342947e-01, -2.62625533e-01, -2.86408751e-01,\n",
       "       -6.66389244e-02, -1.96283744e-03,  6.15193850e-01,  2.97390771e-01,\n",
       "       -1.46470214e-01,  2.34691023e-01, -2.77849603e-01, -7.79337335e-02,\n",
       "       -1.40721319e-01,  6.29731503e-03,  1.73768462e-02, -1.01490231e-01,\n",
       "       -4.06000382e-01,  8.99791505e-01, -1.21173609e-01,  8.50723367e-01,\n",
       "        8.30844386e-01,  1.06124002e-01, -5.68377852e-01, -1.03773564e-01,\n",
       "       -3.54209814e-02,  5.09900889e-02,  4.01809684e-01,  3.95413688e-01,\n",
       "       -2.00624623e-01, -1.26404643e-01,  5.19828248e-01, -3.24736903e-01,\n",
       "       -3.39596138e-01,  4.09133833e-01,  6.52620923e-01,  8.20585809e-02,\n",
       "       -1.75604660e-01, -6.91539671e-02,  2.18284533e-01, -6.11677504e-02,\n",
       "       -1.81345287e-02, -4.09273144e-01, -2.24134295e-01,  7.65555604e-02,\n",
       "        3.40661230e-01,  9.17164959e-03, -1.41360453e-01,  8.27254646e-01,\n",
       "       -1.93178151e-01, -1.46679304e-01, -4.13475390e-01,  7.10253628e-01,\n",
       "       -2.88995169e-01,  2.33870983e-01,  2.29689753e-02, -1.82390491e-01,\n",
       "       -2.57033455e-01, -3.51522300e-01,  4.94021053e-01, -3.09593156e-01,\n",
       "        6.94728743e-01, -1.19028185e-01,  7.64903807e-01, -6.98725508e-02,\n",
       "       -3.31604805e-01, -1.05442441e-01, -1.54923131e-01, -6.72137026e-02,\n",
       "        1.56248071e-01,  7.37799930e-01, -3.64534238e-01, -2.47390044e-02,\n",
       "        6.08967729e-01,  4.90375583e-01, -2.52461301e-01,  7.65086777e-01,\n",
       "       -2.99911588e-02,  5.08711185e-02,  6.13168111e-01, -1.06843926e-01,\n",
       "       -7.57672903e-02, -1.09759129e-02, -3.31993757e-01, -1.20173406e-01,\n",
       "       -3.07662423e-01,  3.43189270e-01,  5.48645912e-04,  9.71083014e-01,\n",
       "       -1.19095530e-01,  3.56717202e-01, -4.05981246e-01,  2.63132456e-02,\n",
       "       -1.19011237e-01,  5.12209489e-02,  7.45841888e-01,  5.56116703e-01,\n",
       "        1.40769891e-02, -2.60346962e-01, -3.07097424e-02,  5.24684655e-01,\n",
       "       -1.00053064e-01,  3.49852284e-01])"
      ]
     },
     "execution_count": 72,
     "metadata": {},
     "output_type": "execute_result"
    }
   ],
   "source": [
    "#Loading back the saved model\n",
    "import joblib\n",
    "Model=joblib.load('shoesprice.obj')\n",
    "\n",
    "result=Model.score(x_test, y_test)\n",
    "print(result*100)\n",
    "\n",
    "#oaded model to make predictions\n",
    "Model.predict(x_test)"
   ]
  },
  {
   "cell_type": "raw",
   "id": "eb59f37f",
   "metadata": {},
   "source": [
    "My Model is also giving 30% score which is low and my Model needs to be corrected."
   ]
  },
  {
   "cell_type": "markdown",
   "id": "c0284738",
   "metadata": {},
   "source": [
    "# Considering the second target as Ratings to predict star Ratings."
   ]
  },
  {
   "cell_type": "code",
   "execution_count": 220,
   "id": "1f07ff7c",
   "metadata": {},
   "outputs": [],
   "source": [
    "from sklearn.linear_model import LogisticRegression\n",
    "from sklearn.naive_bayes import GaussianNB\n",
    "from sklearn.svm import SVC\n",
    "from sklearn.tree import DecisionTreeClassifier\n",
    "from sklearn.neighbors import KNeighborsClassifier\n",
    "from sklearn.ensemble import RandomForestClassifier\n",
    "from sklearn.ensemble import ExtraTreesClassifier\n",
    "from sklearn.neighbors import KNeighborsClassifier\n",
    "from sklearn.metrics import accuracy_score, confusion_matrix,classification_report,f1_score"
   ]
  },
  {
   "cell_type": "code",
   "execution_count": 221,
   "id": "36a6f895",
   "metadata": {},
   "outputs": [
    {
     "data": {
      "text/html": [
       "<div>\n",
       "<style scoped>\n",
       "    .dataframe tbody tr th:only-of-type {\n",
       "        vertical-align: middle;\n",
       "    }\n",
       "\n",
       "    .dataframe tbody tr th {\n",
       "        vertical-align: top;\n",
       "    }\n",
       "\n",
       "    .dataframe thead th {\n",
       "        text-align: right;\n",
       "    }\n",
       "</style>\n",
       "<table border=\"1\" class=\"dataframe\">\n",
       "  <thead>\n",
       "    <tr style=\"text-align: right;\">\n",
       "      <th></th>\n",
       "      <th>Shoes_names</th>\n",
       "      <th>shoes_category</th>\n",
       "      <th>shoes_color</th>\n",
       "      <th>shoes_price</th>\n",
       "      <th>Color1</th>\n",
       "      <th>Color2</th>\n",
       "      <th>Color3</th>\n",
       "      <th>Reviews</th>\n",
       "      <th>Counts</th>\n",
       "      <th>StyleCode</th>\n",
       "    </tr>\n",
       "  </thead>\n",
       "  <tbody>\n",
       "    <tr>\n",
       "      <th>0</th>\n",
       "      <td>8</td>\n",
       "      <td>110</td>\n",
       "      <td>2</td>\n",
       "      <td>0.582225</td>\n",
       "      <td>8</td>\n",
       "      <td>70</td>\n",
       "      <td>23</td>\n",
       "      <td>0.000000</td>\n",
       "      <td>13.000000</td>\n",
       "      <td>164</td>\n",
       "    </tr>\n",
       "    <tr>\n",
       "      <th>3</th>\n",
       "      <td>232</td>\n",
       "      <td>37</td>\n",
       "      <td>12</td>\n",
       "      <td>0.649325</td>\n",
       "      <td>4</td>\n",
       "      <td>73</td>\n",
       "      <td>21</td>\n",
       "      <td>0.000000</td>\n",
       "      <td>13.000000</td>\n",
       "      <td>151</td>\n",
       "    </tr>\n",
       "    <tr>\n",
       "      <th>6</th>\n",
       "      <td>238</td>\n",
       "      <td>110</td>\n",
       "      <td>0</td>\n",
       "      <td>0.481878</td>\n",
       "      <td>10</td>\n",
       "      <td>51</td>\n",
       "      <td>27</td>\n",
       "      <td>1.000000</td>\n",
       "      <td>13.000000</td>\n",
       "      <td>153</td>\n",
       "    </tr>\n",
       "    <tr>\n",
       "      <th>10</th>\n",
       "      <td>231</td>\n",
       "      <td>110</td>\n",
       "      <td>2</td>\n",
       "      <td>0.539898</td>\n",
       "      <td>20</td>\n",
       "      <td>82</td>\n",
       "      <td>39</td>\n",
       "      <td>1316.000000</td>\n",
       "      <td>10.000000</td>\n",
       "      <td>105</td>\n",
       "    </tr>\n",
       "    <tr>\n",
       "      <th>14</th>\n",
       "      <td>256</td>\n",
       "      <td>32</td>\n",
       "      <td>5</td>\n",
       "      <td>0.502525</td>\n",
       "      <td>20</td>\n",
       "      <td>76</td>\n",
       "      <td>29</td>\n",
       "      <td>4.000000</td>\n",
       "      <td>8.540476</td>\n",
       "      <td>148</td>\n",
       "    </tr>\n",
       "    <tr>\n",
       "      <th>...</th>\n",
       "      <td>...</td>\n",
       "      <td>...</td>\n",
       "      <td>...</td>\n",
       "      <td>...</td>\n",
       "      <td>...</td>\n",
       "      <td>...</td>\n",
       "      <td>...</td>\n",
       "      <td>...</td>\n",
       "      <td>...</td>\n",
       "      <td>...</td>\n",
       "    </tr>\n",
       "    <tr>\n",
       "      <th>510</th>\n",
       "      <td>18</td>\n",
       "      <td>118</td>\n",
       "      <td>20</td>\n",
       "      <td>0.265923</td>\n",
       "      <td>0</td>\n",
       "      <td>68</td>\n",
       "      <td>39</td>\n",
       "      <td>361.561224</td>\n",
       "      <td>8.540476</td>\n",
       "      <td>181</td>\n",
       "    </tr>\n",
       "    <tr>\n",
       "      <th>511</th>\n",
       "      <td>395</td>\n",
       "      <td>118</td>\n",
       "      <td>20</td>\n",
       "      <td>0.335903</td>\n",
       "      <td>24</td>\n",
       "      <td>68</td>\n",
       "      <td>39</td>\n",
       "      <td>361.561224</td>\n",
       "      <td>9.000000</td>\n",
       "      <td>181</td>\n",
       "    </tr>\n",
       "    <tr>\n",
       "      <th>512</th>\n",
       "      <td>381</td>\n",
       "      <td>118</td>\n",
       "      <td>20</td>\n",
       "      <td>-0.138763</td>\n",
       "      <td>90</td>\n",
       "      <td>68</td>\n",
       "      <td>39</td>\n",
       "      <td>361.561224</td>\n",
       "      <td>13.000000</td>\n",
       "      <td>181</td>\n",
       "    </tr>\n",
       "    <tr>\n",
       "      <th>513</th>\n",
       "      <td>31</td>\n",
       "      <td>118</td>\n",
       "      <td>20</td>\n",
       "      <td>-0.545765</td>\n",
       "      <td>47</td>\n",
       "      <td>68</td>\n",
       "      <td>39</td>\n",
       "      <td>361.561224</td>\n",
       "      <td>9.000000</td>\n",
       "      <td>181</td>\n",
       "    </tr>\n",
       "    <tr>\n",
       "      <th>514</th>\n",
       "      <td>16</td>\n",
       "      <td>118</td>\n",
       "      <td>20</td>\n",
       "      <td>-0.038377</td>\n",
       "      <td>24</td>\n",
       "      <td>68</td>\n",
       "      <td>39</td>\n",
       "      <td>361.561224</td>\n",
       "      <td>10.000000</td>\n",
       "      <td>181</td>\n",
       "    </tr>\n",
       "  </tbody>\n",
       "</table>\n",
       "<p>472 rows × 10 columns</p>\n",
       "</div>"
      ],
      "text/plain": [
       "     Shoes_names  shoes_category  shoes_color  shoes_price  Color1  Color2  \\\n",
       "0              8             110            2     0.582225       8      70   \n",
       "3            232              37           12     0.649325       4      73   \n",
       "6            238             110            0     0.481878      10      51   \n",
       "10           231             110            2     0.539898      20      82   \n",
       "14           256              32            5     0.502525      20      76   \n",
       "..           ...             ...          ...          ...     ...     ...   \n",
       "510           18             118           20     0.265923       0      68   \n",
       "511          395             118           20     0.335903      24      68   \n",
       "512          381             118           20    -0.138763      90      68   \n",
       "513           31             118           20    -0.545765      47      68   \n",
       "514           16             118           20    -0.038377      24      68   \n",
       "\n",
       "     Color3      Reviews     Counts  StyleCode  \n",
       "0        23     0.000000  13.000000        164  \n",
       "3        21     0.000000  13.000000        151  \n",
       "6        27     1.000000  13.000000        153  \n",
       "10       39  1316.000000  10.000000        105  \n",
       "14       29     4.000000   8.540476        148  \n",
       "..      ...          ...        ...        ...  \n",
       "510      39   361.561224   8.540476        181  \n",
       "511      39   361.561224   9.000000        181  \n",
       "512      39   361.561224  13.000000        181  \n",
       "513      39   361.561224   9.000000        181  \n",
       "514      39   361.561224  10.000000        181  \n",
       "\n",
       "[472 rows x 10 columns]"
      ]
     },
     "execution_count": 221,
     "metadata": {},
     "output_type": "execute_result"
    }
   ],
   "source": [
    "x=df.drop(['Ratings'], axis=1)\n",
    "x"
   ]
  },
  {
   "cell_type": "code",
   "execution_count": 222,
   "id": "d7a888aa",
   "metadata": {},
   "outputs": [
    {
     "data": {
      "text/plain": [
       "0      1.068590e-15\n",
       "3     -1.804112e-16\n",
       "6     -1.804112e-16\n",
       "10    -1.804112e-16\n",
       "14    -1.804112e-16\n",
       "           ...     \n",
       "510   -1.804112e-16\n",
       "511   -1.804112e-16\n",
       "512   -1.804112e-16\n",
       "513   -1.804112e-16\n",
       "514   -1.804112e-16\n",
       "Name: Ratings, Length: 472, dtype: float64"
      ]
     },
     "execution_count": 222,
     "metadata": {},
     "output_type": "execute_result"
    }
   ],
   "source": [
    "y=df['Ratings']\n",
    "y"
   ]
  },
  {
   "cell_type": "code",
   "execution_count": 223,
   "id": "e37cecb7",
   "metadata": {},
   "outputs": [
    {
     "data": {
      "text/html": [
       "<div>\n",
       "<style scoped>\n",
       "    .dataframe tbody tr th:only-of-type {\n",
       "        vertical-align: middle;\n",
       "    }\n",
       "\n",
       "    .dataframe tbody tr th {\n",
       "        vertical-align: top;\n",
       "    }\n",
       "\n",
       "    .dataframe thead th {\n",
       "        text-align: right;\n",
       "    }\n",
       "</style>\n",
       "<table border=\"1\" class=\"dataframe\">\n",
       "  <thead>\n",
       "    <tr style=\"text-align: right;\">\n",
       "      <th></th>\n",
       "      <th>0</th>\n",
       "      <th>1</th>\n",
       "      <th>2</th>\n",
       "      <th>3</th>\n",
       "      <th>4</th>\n",
       "      <th>5</th>\n",
       "      <th>6</th>\n",
       "      <th>7</th>\n",
       "      <th>8</th>\n",
       "      <th>9</th>\n",
       "    </tr>\n",
       "  </thead>\n",
       "  <tbody>\n",
       "    <tr>\n",
       "      <th>0</th>\n",
       "      <td>-1.654695</td>\n",
       "      <td>1.120679</td>\n",
       "      <td>-1.348464</td>\n",
       "      <td>0.582225</td>\n",
       "      <td>-0.881693</td>\n",
       "      <td>0.512149</td>\n",
       "      <td>-1.681731</td>\n",
       "      <td>-1.627047</td>\n",
       "      <td>1.057433</td>\n",
       "      <td>0.270043</td>\n",
       "    </tr>\n",
       "    <tr>\n",
       "      <th>1</th>\n",
       "      <td>0.277446</td>\n",
       "      <td>-0.607254</td>\n",
       "      <td>-0.281269</td>\n",
       "      <td>0.649325</td>\n",
       "      <td>-0.954239</td>\n",
       "      <td>0.671639</td>\n",
       "      <td>-1.926046</td>\n",
       "      <td>-1.627047</td>\n",
       "      <td>1.057433</td>\n",
       "      <td>0.043617</td>\n",
       "    </tr>\n",
       "    <tr>\n",
       "      <th>2</th>\n",
       "      <td>0.329199</td>\n",
       "      <td>1.120679</td>\n",
       "      <td>-1.561903</td>\n",
       "      <td>0.481878</td>\n",
       "      <td>-0.845421</td>\n",
       "      <td>-0.497957</td>\n",
       "      <td>-1.193103</td>\n",
       "      <td>-1.621162</td>\n",
       "      <td>1.057433</td>\n",
       "      <td>0.078452</td>\n",
       "    </tr>\n",
       "    <tr>\n",
       "      <th>3</th>\n",
       "      <td>0.268820</td>\n",
       "      <td>1.120679</td>\n",
       "      <td>-1.348464</td>\n",
       "      <td>0.539898</td>\n",
       "      <td>-0.664056</td>\n",
       "      <td>1.150111</td>\n",
       "      <td>0.272783</td>\n",
       "      <td>6.118541</td>\n",
       "      <td>0.372609</td>\n",
       "      <td>-0.757580</td>\n",
       "    </tr>\n",
       "    <tr>\n",
       "      <th>4</th>\n",
       "      <td>0.484461</td>\n",
       "      <td>-0.725605</td>\n",
       "      <td>-1.028306</td>\n",
       "      <td>0.502525</td>\n",
       "      <td>-0.664056</td>\n",
       "      <td>0.831130</td>\n",
       "      <td>-0.948788</td>\n",
       "      <td>-1.603504</td>\n",
       "      <td>0.039437</td>\n",
       "      <td>-0.008635</td>\n",
       "    </tr>\n",
       "    <tr>\n",
       "      <th>...</th>\n",
       "      <td>...</td>\n",
       "      <td>...</td>\n",
       "      <td>...</td>\n",
       "      <td>...</td>\n",
       "      <td>...</td>\n",
       "      <td>...</td>\n",
       "      <td>...</td>\n",
       "      <td>...</td>\n",
       "      <td>...</td>\n",
       "      <td>...</td>\n",
       "    </tr>\n",
       "    <tr>\n",
       "      <th>467</th>\n",
       "      <td>-1.568439</td>\n",
       "      <td>1.310041</td>\n",
       "      <td>0.572487</td>\n",
       "      <td>0.265923</td>\n",
       "      <td>-1.026785</td>\n",
       "      <td>0.405822</td>\n",
       "      <td>0.272783</td>\n",
       "      <td>0.500996</td>\n",
       "      <td>0.039437</td>\n",
       "      <td>0.566137</td>\n",
       "    </tr>\n",
       "    <tr>\n",
       "      <th>468</th>\n",
       "      <td>1.683423</td>\n",
       "      <td>1.310041</td>\n",
       "      <td>0.572487</td>\n",
       "      <td>0.335903</td>\n",
       "      <td>-0.591510</td>\n",
       "      <td>0.405822</td>\n",
       "      <td>0.272783</td>\n",
       "      <td>0.500996</td>\n",
       "      <td>0.144334</td>\n",
       "      <td>0.566137</td>\n",
       "    </tr>\n",
       "    <tr>\n",
       "      <th>469</th>\n",
       "      <td>1.562664</td>\n",
       "      <td>1.310041</td>\n",
       "      <td>0.572487</td>\n",
       "      <td>-0.138763</td>\n",
       "      <td>0.605497</td>\n",
       "      <td>0.405822</td>\n",
       "      <td>0.272783</td>\n",
       "      <td>0.500996</td>\n",
       "      <td>1.057433</td>\n",
       "      <td>0.566137</td>\n",
       "    </tr>\n",
       "    <tr>\n",
       "      <th>470</th>\n",
       "      <td>-1.456306</td>\n",
       "      <td>1.310041</td>\n",
       "      <td>0.572487</td>\n",
       "      <td>-0.545765</td>\n",
       "      <td>-0.174371</td>\n",
       "      <td>0.405822</td>\n",
       "      <td>0.272783</td>\n",
       "      <td>0.500996</td>\n",
       "      <td>0.144334</td>\n",
       "      <td>0.566137</td>\n",
       "    </tr>\n",
       "    <tr>\n",
       "      <th>471</th>\n",
       "      <td>-1.585690</td>\n",
       "      <td>1.310041</td>\n",
       "      <td>0.572487</td>\n",
       "      <td>-0.038377</td>\n",
       "      <td>-0.591510</td>\n",
       "      <td>0.405822</td>\n",
       "      <td>0.272783</td>\n",
       "      <td>0.500996</td>\n",
       "      <td>0.372609</td>\n",
       "      <td>0.566137</td>\n",
       "    </tr>\n",
       "  </tbody>\n",
       "</table>\n",
       "<p>472 rows × 10 columns</p>\n",
       "</div>"
      ],
      "text/plain": [
       "            0         1         2         3         4         5         6  \\\n",
       "0   -1.654695  1.120679 -1.348464  0.582225 -0.881693  0.512149 -1.681731   \n",
       "1    0.277446 -0.607254 -0.281269  0.649325 -0.954239  0.671639 -1.926046   \n",
       "2    0.329199  1.120679 -1.561903  0.481878 -0.845421 -0.497957 -1.193103   \n",
       "3    0.268820  1.120679 -1.348464  0.539898 -0.664056  1.150111  0.272783   \n",
       "4    0.484461 -0.725605 -1.028306  0.502525 -0.664056  0.831130 -0.948788   \n",
       "..        ...       ...       ...       ...       ...       ...       ...   \n",
       "467 -1.568439  1.310041  0.572487  0.265923 -1.026785  0.405822  0.272783   \n",
       "468  1.683423  1.310041  0.572487  0.335903 -0.591510  0.405822  0.272783   \n",
       "469  1.562664  1.310041  0.572487 -0.138763  0.605497  0.405822  0.272783   \n",
       "470 -1.456306  1.310041  0.572487 -0.545765 -0.174371  0.405822  0.272783   \n",
       "471 -1.585690  1.310041  0.572487 -0.038377 -0.591510  0.405822  0.272783   \n",
       "\n",
       "            7         8         9  \n",
       "0   -1.627047  1.057433  0.270043  \n",
       "1   -1.627047  1.057433  0.043617  \n",
       "2   -1.621162  1.057433  0.078452  \n",
       "3    6.118541  0.372609 -0.757580  \n",
       "4   -1.603504  0.039437 -0.008635  \n",
       "..        ...       ...       ...  \n",
       "467  0.500996  0.039437  0.566137  \n",
       "468  0.500996  0.144334  0.566137  \n",
       "469  0.500996  1.057433  0.566137  \n",
       "470  0.500996  0.144334  0.566137  \n",
       "471  0.500996  0.372609  0.566137  \n",
       "\n",
       "[472 rows x 10 columns]"
      ]
     },
     "execution_count": 223,
     "metadata": {},
     "output_type": "execute_result"
    }
   ],
   "source": [
    "from sklearn.preprocessing import StandardScaler \n",
    "st=StandardScaler() #scaling applied and we can see the uniformity in the values\n",
    "x=pd.DataFrame(st.fit_transform(x))\n",
    "x"
   ]
  },
  {
   "cell_type": "code",
   "execution_count": 224,
   "id": "d702360f",
   "metadata": {},
   "outputs": [
    {
     "data": {
      "text/plain": [
       "0      0\n",
       "3      0\n",
       "6      0\n",
       "10     0\n",
       "14     0\n",
       "      ..\n",
       "510    0\n",
       "511    0\n",
       "512    0\n",
       "513    0\n",
       "514    0\n",
       "Name: Ratings, Length: 472, dtype: int32"
      ]
     },
     "execution_count": 224,
     "metadata": {},
     "output_type": "execute_result"
    }
   ],
   "source": [
    "df['Ratings'].astype(int)"
   ]
  },
  {
   "cell_type": "markdown",
   "id": "0f8ab4a6",
   "metadata": {},
   "source": [
    "# Converting multiclass to binary class."
   ]
  },
  {
   "cell_type": "code",
   "execution_count": 225,
   "id": "da06dbe2",
   "metadata": {},
   "outputs": [],
   "source": [
    "df.loc[df.Ratings!=1,'Type']=0\n",
    "df.loc[df.Ratings==1, 'Type']=1"
   ]
  },
  {
   "cell_type": "code",
   "execution_count": 67,
   "id": "46e4df5a",
   "metadata": {},
   "outputs": [
    {
     "name": "stdout",
     "output_type": "stream",
     "text": [
      "Requirement already satisfied: imbalanced-learn in c:\\users\\admin\\anaconda3\\lib\\site-packages (0.11.0)\n",
      "Requirement already satisfied: numpy>=1.17.3 in c:\\users\\admin\\anaconda3\\lib\\site-packages (from imbalanced-learn) (1.21.5)\n",
      "Requirement already satisfied: joblib>=1.1.1 in c:\\users\\admin\\anaconda3\\lib\\site-packages (from imbalanced-learn) (1.3.2)\n",
      "Requirement already satisfied: scipy>=1.5.0 in c:\\users\\admin\\anaconda3\\lib\\site-packages (from imbalanced-learn) (1.9.1)\n",
      "Requirement already satisfied: scikit-learn>=1.0.2 in c:\\users\\admin\\anaconda3\\lib\\site-packages (from imbalanced-learn) (1.0.2)\n",
      "Requirement already satisfied: threadpoolctl>=2.0.0 in c:\\users\\admin\\anaconda3\\lib\\site-packages (from imbalanced-learn) (2.2.0)\n",
      "Note: you may need to restart the kernel to use updated packages.\n"
     ]
    }
   ],
   "source": [
    "pip install imbalanced-learn"
   ]
  },
  {
   "cell_type": "code",
   "execution_count": null,
   "id": "4705dbbb",
   "metadata": {},
   "outputs": [],
   "source": [
    "def Ratings(rating):\n",
    "\n",
    "    if (rating==0):\n",
    "        print(\"Poor\")\n",
    "    elif (rating==3):\n",
    "        print(\"Good\")\n",
    "    elif (rating==4):\n",
    "        print(\"Very good\")\n",
    "    elif (rating==5):\n",
    "        print('Excellent')\n",
    "        \n",
    "        "
   ]
  },
  {
   "cell_type": "code",
   "execution_count": 245,
   "id": "52bab244",
   "metadata": {},
   "outputs": [
    {
     "ename": "ValueError",
     "evalue": "Unknown label type: 'continuous'",
     "output_type": "error",
     "traceback": [
      "\u001b[1;31m---------------------------------------------------------------------------\u001b[0m",
      "\u001b[1;31mValueError\u001b[0m                                Traceback (most recent call last)",
      "\u001b[1;32m~\\AppData\\Local\\Temp\\ipykernel_456\\833834869.py\u001b[0m in \u001b[0;36m<module>\u001b[1;34m\u001b[0m\n\u001b[0;32m      1\u001b[0m \u001b[1;32mfrom\u001b[0m \u001b[0mimblearn\u001b[0m\u001b[1;33m.\u001b[0m\u001b[0mover_sampling\u001b[0m \u001b[1;32mimport\u001b[0m \u001b[0mSMOTE\u001b[0m\u001b[1;33m\u001b[0m\u001b[1;33m\u001b[0m\u001b[0m\n\u001b[0;32m      2\u001b[0m \u001b[0msmt\u001b[0m\u001b[1;33m=\u001b[0m\u001b[0mSMOTE\u001b[0m\u001b[1;33m(\u001b[0m\u001b[1;33m)\u001b[0m\u001b[1;33m\u001b[0m\u001b[1;33m\u001b[0m\u001b[0m\n\u001b[1;32m----> 3\u001b[1;33m \u001b[0mx1\u001b[0m\u001b[1;33m,\u001b[0m \u001b[0my1\u001b[0m\u001b[1;33m=\u001b[0m\u001b[0msmt\u001b[0m\u001b[1;33m.\u001b[0m\u001b[0mfit_resample\u001b[0m\u001b[1;33m(\u001b[0m\u001b[0mx\u001b[0m\u001b[1;33m,\u001b[0m \u001b[0my\u001b[0m\u001b[1;33m)\u001b[0m\u001b[1;33m\u001b[0m\u001b[1;33m\u001b[0m\u001b[0m\n\u001b[0m",
      "\u001b[1;32m~\\anaconda3\\lib\\site-packages\\imblearn\\base.py\u001b[0m in \u001b[0;36mfit_resample\u001b[1;34m(self, X, y)\u001b[0m\n\u001b[0;32m    206\u001b[0m         \"\"\"\n\u001b[0;32m    207\u001b[0m         \u001b[0mself\u001b[0m\u001b[1;33m.\u001b[0m\u001b[0m_validate_params\u001b[0m\u001b[1;33m(\u001b[0m\u001b[1;33m)\u001b[0m\u001b[1;33m\u001b[0m\u001b[1;33m\u001b[0m\u001b[0m\n\u001b[1;32m--> 208\u001b[1;33m         \u001b[1;32mreturn\u001b[0m \u001b[0msuper\u001b[0m\u001b[1;33m(\u001b[0m\u001b[1;33m)\u001b[0m\u001b[1;33m.\u001b[0m\u001b[0mfit_resample\u001b[0m\u001b[1;33m(\u001b[0m\u001b[0mX\u001b[0m\u001b[1;33m,\u001b[0m \u001b[0my\u001b[0m\u001b[1;33m)\u001b[0m\u001b[1;33m\u001b[0m\u001b[1;33m\u001b[0m\u001b[0m\n\u001b[0m\u001b[0;32m    209\u001b[0m \u001b[1;33m\u001b[0m\u001b[0m\n\u001b[0;32m    210\u001b[0m     \u001b[1;32mdef\u001b[0m \u001b[0m_more_tags\u001b[0m\u001b[1;33m(\u001b[0m\u001b[0mself\u001b[0m\u001b[1;33m)\u001b[0m\u001b[1;33m:\u001b[0m\u001b[1;33m\u001b[0m\u001b[1;33m\u001b[0m\u001b[0m\n",
      "\u001b[1;32m~\\anaconda3\\lib\\site-packages\\imblearn\\base.py\u001b[0m in \u001b[0;36mfit_resample\u001b[1;34m(self, X, y)\u001b[0m\n\u001b[0;32m    102\u001b[0m             \u001b[0mThe\u001b[0m \u001b[0mcorresponding\u001b[0m \u001b[0mlabel\u001b[0m \u001b[0mof\u001b[0m\u001b[0;31m \u001b[0m\u001b[0;31m`\u001b[0m\u001b[0mX_resampled\u001b[0m\u001b[0;31m`\u001b[0m\u001b[1;33m.\u001b[0m\u001b[1;33m\u001b[0m\u001b[1;33m\u001b[0m\u001b[0m\n\u001b[0;32m    103\u001b[0m         \"\"\"\n\u001b[1;32m--> 104\u001b[1;33m         \u001b[0mcheck_classification_targets\u001b[0m\u001b[1;33m(\u001b[0m\u001b[0my\u001b[0m\u001b[1;33m)\u001b[0m\u001b[1;33m\u001b[0m\u001b[1;33m\u001b[0m\u001b[0m\n\u001b[0m\u001b[0;32m    105\u001b[0m         \u001b[0marrays_transformer\u001b[0m \u001b[1;33m=\u001b[0m \u001b[0mArraysTransformer\u001b[0m\u001b[1;33m(\u001b[0m\u001b[0mX\u001b[0m\u001b[1;33m,\u001b[0m \u001b[0my\u001b[0m\u001b[1;33m)\u001b[0m\u001b[1;33m\u001b[0m\u001b[1;33m\u001b[0m\u001b[0m\n\u001b[0;32m    106\u001b[0m         \u001b[0mX\u001b[0m\u001b[1;33m,\u001b[0m \u001b[0my\u001b[0m\u001b[1;33m,\u001b[0m \u001b[0mbinarize_y\u001b[0m \u001b[1;33m=\u001b[0m \u001b[0mself\u001b[0m\u001b[1;33m.\u001b[0m\u001b[0m_check_X_y\u001b[0m\u001b[1;33m(\u001b[0m\u001b[0mX\u001b[0m\u001b[1;33m,\u001b[0m \u001b[0my\u001b[0m\u001b[1;33m)\u001b[0m\u001b[1;33m\u001b[0m\u001b[1;33m\u001b[0m\u001b[0m\n",
      "\u001b[1;32m~\\anaconda3\\lib\\site-packages\\sklearn\\utils\\multiclass.py\u001b[0m in \u001b[0;36mcheck_classification_targets\u001b[1;34m(y)\u001b[0m\n\u001b[0;32m    195\u001b[0m         \u001b[1;34m\"multilabel-sequences\"\u001b[0m\u001b[1;33m,\u001b[0m\u001b[1;33m\u001b[0m\u001b[1;33m\u001b[0m\u001b[0m\n\u001b[0;32m    196\u001b[0m     ]:\n\u001b[1;32m--> 197\u001b[1;33m         \u001b[1;32mraise\u001b[0m \u001b[0mValueError\u001b[0m\u001b[1;33m(\u001b[0m\u001b[1;34m\"Unknown label type: %r\"\u001b[0m \u001b[1;33m%\u001b[0m \u001b[0my_type\u001b[0m\u001b[1;33m)\u001b[0m\u001b[1;33m\u001b[0m\u001b[1;33m\u001b[0m\u001b[0m\n\u001b[0m\u001b[0;32m    198\u001b[0m \u001b[1;33m\u001b[0m\u001b[0m\n\u001b[0;32m    199\u001b[0m \u001b[1;33m\u001b[0m\u001b[0m\n",
      "\u001b[1;31mValueError\u001b[0m: Unknown label type: 'continuous'"
     ]
    }
   ],
   "source": [
    "from imblearn.over_sampling import SMOTE\n",
    "smt=SMOTE()\n",
    "x1, y1=smt.fit_resample(x, y)"
   ]
  },
  {
   "cell_type": "code",
   "execution_count": 226,
   "id": "2960b627",
   "metadata": {},
   "outputs": [
    {
     "ename": "ValueError",
     "evalue": "Unknown label type: 'continuous'",
     "output_type": "error",
     "traceback": [
      "\u001b[1;31m---------------------------------------------------------------------------\u001b[0m",
      "\u001b[1;31mValueError\u001b[0m                                Traceback (most recent call last)",
      "\u001b[1;32m~\\AppData\\Local\\Temp\\ipykernel_456\\1849521392.py\u001b[0m in \u001b[0;36m<module>\u001b[1;34m\u001b[0m\n\u001b[0;32m      4\u001b[0m     \u001b[0mx_train\u001b[0m\u001b[1;33m,\u001b[0m\u001b[0mx_test\u001b[0m\u001b[1;33m,\u001b[0m\u001b[0my_train\u001b[0m\u001b[1;33m,\u001b[0m\u001b[0my_test\u001b[0m \u001b[1;33m=\u001b[0m \u001b[0mtrain_test_split\u001b[0m\u001b[1;33m(\u001b[0m\u001b[0mx\u001b[0m\u001b[1;33m,\u001b[0m\u001b[0my\u001b[0m\u001b[1;33m,\u001b[0m\u001b[0mtest_size\u001b[0m \u001b[1;33m=\u001b[0m \u001b[1;36m0.3\u001b[0m\u001b[1;33m,\u001b[0m \u001b[0mrandom_state\u001b[0m\u001b[1;33m=\u001b[0m\u001b[0mi\u001b[0m\u001b[1;33m)\u001b[0m\u001b[1;33m\u001b[0m\u001b[1;33m\u001b[0m\u001b[0m\n\u001b[0;32m      5\u001b[0m     \u001b[0mlr\u001b[0m\u001b[1;33m=\u001b[0m\u001b[0mLogisticRegression\u001b[0m\u001b[1;33m(\u001b[0m\u001b[1;33m)\u001b[0m\u001b[1;33m\u001b[0m\u001b[1;33m\u001b[0m\u001b[0m\n\u001b[1;32m----> 6\u001b[1;33m     \u001b[0mlr\u001b[0m\u001b[1;33m.\u001b[0m\u001b[0mfit\u001b[0m\u001b[1;33m(\u001b[0m\u001b[0mx_train\u001b[0m\u001b[1;33m,\u001b[0m\u001b[0my_train\u001b[0m\u001b[1;33m)\u001b[0m\u001b[1;33m\u001b[0m\u001b[1;33m\u001b[0m\u001b[0m\n\u001b[0m\u001b[0;32m      7\u001b[0m     \u001b[0my_pred\u001b[0m\u001b[1;33m=\u001b[0m\u001b[0mlr\u001b[0m\u001b[1;33m.\u001b[0m\u001b[0mpredict\u001b[0m\u001b[1;33m(\u001b[0m\u001b[0mx_test\u001b[0m\u001b[1;33m)\u001b[0m\u001b[1;33m\u001b[0m\u001b[1;33m\u001b[0m\u001b[0m\n\u001b[0;32m      8\u001b[0m     \u001b[0macc\u001b[0m\u001b[1;33m=\u001b[0m\u001b[0maccuracy_score\u001b[0m\u001b[1;33m(\u001b[0m\u001b[0my_test\u001b[0m\u001b[1;33m,\u001b[0m\u001b[0my_pred\u001b[0m\u001b[1;33m)\u001b[0m\u001b[1;33m\u001b[0m\u001b[1;33m\u001b[0m\u001b[0m\n",
      "\u001b[1;32m~\\anaconda3\\lib\\site-packages\\sklearn\\linear_model\\_logistic.py\u001b[0m in \u001b[0;36mfit\u001b[1;34m(self, X, y, sample_weight)\u001b[0m\n\u001b[0;32m   1514\u001b[0m             \u001b[0maccept_large_sparse\u001b[0m\u001b[1;33m=\u001b[0m\u001b[0msolver\u001b[0m \u001b[1;32mnot\u001b[0m \u001b[1;32min\u001b[0m \u001b[1;33m[\u001b[0m\u001b[1;34m\"liblinear\"\u001b[0m\u001b[1;33m,\u001b[0m \u001b[1;34m\"sag\"\u001b[0m\u001b[1;33m,\u001b[0m \u001b[1;34m\"saga\"\u001b[0m\u001b[1;33m]\u001b[0m\u001b[1;33m,\u001b[0m\u001b[1;33m\u001b[0m\u001b[1;33m\u001b[0m\u001b[0m\n\u001b[0;32m   1515\u001b[0m         )\n\u001b[1;32m-> 1516\u001b[1;33m         \u001b[0mcheck_classification_targets\u001b[0m\u001b[1;33m(\u001b[0m\u001b[0my\u001b[0m\u001b[1;33m)\u001b[0m\u001b[1;33m\u001b[0m\u001b[1;33m\u001b[0m\u001b[0m\n\u001b[0m\u001b[0;32m   1517\u001b[0m         \u001b[0mself\u001b[0m\u001b[1;33m.\u001b[0m\u001b[0mclasses_\u001b[0m \u001b[1;33m=\u001b[0m \u001b[0mnp\u001b[0m\u001b[1;33m.\u001b[0m\u001b[0munique\u001b[0m\u001b[1;33m(\u001b[0m\u001b[0my\u001b[0m\u001b[1;33m)\u001b[0m\u001b[1;33m\u001b[0m\u001b[1;33m\u001b[0m\u001b[0m\n\u001b[0;32m   1518\u001b[0m \u001b[1;33m\u001b[0m\u001b[0m\n",
      "\u001b[1;32m~\\anaconda3\\lib\\site-packages\\sklearn\\utils\\multiclass.py\u001b[0m in \u001b[0;36mcheck_classification_targets\u001b[1;34m(y)\u001b[0m\n\u001b[0;32m    195\u001b[0m         \u001b[1;34m\"multilabel-sequences\"\u001b[0m\u001b[1;33m,\u001b[0m\u001b[1;33m\u001b[0m\u001b[1;33m\u001b[0m\u001b[0m\n\u001b[0;32m    196\u001b[0m     ]:\n\u001b[1;32m--> 197\u001b[1;33m         \u001b[1;32mraise\u001b[0m \u001b[0mValueError\u001b[0m\u001b[1;33m(\u001b[0m\u001b[1;34m\"Unknown label type: %r\"\u001b[0m \u001b[1;33m%\u001b[0m \u001b[0my_type\u001b[0m\u001b[1;33m)\u001b[0m\u001b[1;33m\u001b[0m\u001b[1;33m\u001b[0m\u001b[0m\n\u001b[0m\u001b[0;32m    198\u001b[0m \u001b[1;33m\u001b[0m\u001b[0m\n\u001b[0;32m    199\u001b[0m \u001b[1;33m\u001b[0m\u001b[0m\n",
      "\u001b[1;31mValueError\u001b[0m: Unknown label type: 'continuous'"
     ]
    }
   ],
   "source": [
    "maxAccu=0\n",
    "maxRS=0\n",
    "for i in range(1,250):\n",
    "    x_train,x_test,y_train,y_test = train_test_split(x,y,test_size = 0.3, random_state=i)\n",
    "    lr=LogisticRegression()\n",
    "    lr.fit(x_train,y_train)\n",
    "    y_pred=lr.predict(x_test)\n",
    "    acc=accuracy_score(y_test,y_pred)\n",
    "    if acc>maxAccu:\n",
    "        maxAccu=acc\n",
    "        maxRS=i\n",
    "print('Best accuracy is', maxAccu ,'on Random_state', maxRS)"
   ]
  },
  {
   "cell_type": "code",
   "execution_count": 140,
   "id": "0bab9dae",
   "metadata": {},
   "outputs": [],
   "source": [
    "x_train, x_test, y_train, y_test=train_test_split(x, y, test_size=.33, random_state=)"
   ]
  },
  {
   "cell_type": "code",
   "execution_count": null,
   "id": "cf8f69bb",
   "metadata": {},
   "outputs": [],
   "source": [
    "x_train.shape"
   ]
  },
  {
   "cell_type": "code",
   "execution_count": null,
   "id": "e1908ead",
   "metadata": {},
   "outputs": [],
   "source": [
    "x_test.shape"
   ]
  },
  {
   "cell_type": "code",
   "execution_count": null,
   "id": "b908ec67",
   "metadata": {},
   "outputs": [],
   "source": [
    "y_train.shape"
   ]
  },
  {
   "cell_type": "code",
   "execution_count": null,
   "id": "32d7963c",
   "metadata": {},
   "outputs": [],
   "source": [
    "y_test.shape"
   ]
  },
  {
   "cell_type": "code",
   "execution_count": null,
   "id": "1c4b7272",
   "metadata": {},
   "outputs": [],
   "source": [
    "lg=LogisticRegression()\n",
    "lg.fit(x_train, y_train)\n",
    "pred_lg=lg.predict(x_test)\n",
    "print('Accuracy_Score:', accuracy_score(y_test, pred_lg))\n",
    "print('Confusion Matrix is', confusion_matric(y_test, preg_lg))\n",
    "print('Classification Report is', classification_report(y_test, preg_lg))"
   ]
  },
  {
   "cell_type": "code",
   "execution_count": null,
   "id": "29943870",
   "metadata": {},
   "outputs": [],
   "source": []
  }
 ],
 "metadata": {
  "kernelspec": {
   "display_name": "Python 3 (ipykernel)",
   "language": "python",
   "name": "python3"
  },
  "language_info": {
   "codemirror_mode": {
    "name": "ipython",
    "version": 3
   },
   "file_extension": ".py",
   "mimetype": "text/x-python",
   "name": "python",
   "nbconvert_exporter": "python",
   "pygments_lexer": "ipython3",
   "version": "3.9.13"
  }
 },
 "nbformat": 4,
 "nbformat_minor": 5
}
